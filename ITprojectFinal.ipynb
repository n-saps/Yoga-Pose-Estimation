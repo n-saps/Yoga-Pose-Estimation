{
  "nbformat": 4,
  "nbformat_minor": 0,
  "metadata": {
    "colab": {
      "provenance": []
    },
    "kernelspec": {
      "name": "python3",
      "display_name": "Python 3"
    },
    "language_info": {
      "name": "python"
    }
  },
  "cells": [
    {
      "cell_type": "code",
      "execution_count": null,
      "metadata": {
        "id": "kohVhD00uiKC"
      },
      "outputs": [],
      "source": [
        "# train_model.py\n",
        "import os\n",
        "import os\n",
        "import zipfile\n",
        "import numpy as np\n",
        "import pandas as pd\n",
        "import matplotlib.pyplot as plt\n",
        "import cv2\n",
        "from sklearn.model_selection import train_test_split\n",
        "from tensorflow.keras.models import Sequential\n",
        "from tensorflow.keras.layers import Conv2D, MaxPooling2D, Flatten, Dense, Dropout\n",
        "from tensorflow.keras.utils import to_categorical\n",
        "from tensorflow.keras.callbacks import EarlyStopping\n",
        "from sklearn.metrics import classification_report, confusion_matrix\n",
        "import seaborn as sns"
      ]
    },
    {
      "cell_type": "code",
      "source": [
        "!pip install opencv-python mediapipe"
      ],
      "metadata": {
        "colab": {
          "base_uri": "https://localhost:8080/"
        },
        "collapsed": true,
        "id": "oW9gcAg3vh0z",
        "outputId": "9350b5d2-7140-4ef6-e84f-a6d6cd1b2acd"
      },
      "execution_count": null,
      "outputs": [
        {
          "output_type": "stream",
          "name": "stdout",
          "text": [
            "Requirement already satisfied: opencv-python in /usr/local/lib/python3.11/dist-packages (4.11.0.86)\n",
            "Collecting mediapipe\n",
            "  Downloading mediapipe-0.10.21-cp311-cp311-manylinux_2_28_x86_64.whl.metadata (9.7 kB)\n",
            "Requirement already satisfied: numpy>=1.21.2 in /usr/local/lib/python3.11/dist-packages (from opencv-python) (2.0.2)\n",
            "Requirement already satisfied: absl-py in /usr/local/lib/python3.11/dist-packages (from mediapipe) (1.4.0)\n",
            "Requirement already satisfied: attrs>=19.1.0 in /usr/local/lib/python3.11/dist-packages (from mediapipe) (25.3.0)\n",
            "Requirement already satisfied: flatbuffers>=2.0 in /usr/local/lib/python3.11/dist-packages (from mediapipe) (25.2.10)\n",
            "Requirement already satisfied: jax in /usr/local/lib/python3.11/dist-packages (from mediapipe) (0.5.2)\n",
            "Requirement already satisfied: jaxlib in /usr/local/lib/python3.11/dist-packages (from mediapipe) (0.5.1)\n",
            "Requirement already satisfied: matplotlib in /usr/local/lib/python3.11/dist-packages (from mediapipe) (3.10.0)\n",
            "Collecting numpy>=1.21.2 (from opencv-python)\n",
            "  Downloading numpy-1.26.4-cp311-cp311-manylinux_2_17_x86_64.manylinux2014_x86_64.whl.metadata (61 kB)\n",
            "\u001b[2K     \u001b[90m━━━━━━━━━━━━━━━━━━━━━━━━━━━━━━━━━━━━━━━━\u001b[0m \u001b[32m61.0/61.0 kB\u001b[0m \u001b[31m2.3 MB/s\u001b[0m eta \u001b[36m0:00:00\u001b[0m\n",
            "\u001b[?25hRequirement already satisfied: opencv-contrib-python in /usr/local/lib/python3.11/dist-packages (from mediapipe) (4.11.0.86)\n",
            "Collecting protobuf<5,>=4.25.3 (from mediapipe)\n",
            "  Downloading protobuf-4.25.7-cp37-abi3-manylinux2014_x86_64.whl.metadata (541 bytes)\n",
            "Collecting sounddevice>=0.4.4 (from mediapipe)\n",
            "  Downloading sounddevice-0.5.1-py3-none-any.whl.metadata (1.4 kB)\n",
            "Requirement already satisfied: sentencepiece in /usr/local/lib/python3.11/dist-packages (from mediapipe) (0.2.0)\n",
            "Requirement already satisfied: CFFI>=1.0 in /usr/local/lib/python3.11/dist-packages (from sounddevice>=0.4.4->mediapipe) (1.17.1)\n",
            "Requirement already satisfied: ml_dtypes>=0.4.0 in /usr/local/lib/python3.11/dist-packages (from jax->mediapipe) (0.4.1)\n",
            "Requirement already satisfied: opt_einsum in /usr/local/lib/python3.11/dist-packages (from jax->mediapipe) (3.4.0)\n",
            "Requirement already satisfied: scipy>=1.11.1 in /usr/local/lib/python3.11/dist-packages (from jax->mediapipe) (1.15.2)\n",
            "Requirement already satisfied: contourpy>=1.0.1 in /usr/local/lib/python3.11/dist-packages (from matplotlib->mediapipe) (1.3.2)\n",
            "Requirement already satisfied: cycler>=0.10 in /usr/local/lib/python3.11/dist-packages (from matplotlib->mediapipe) (0.12.1)\n",
            "Requirement already satisfied: fonttools>=4.22.0 in /usr/local/lib/python3.11/dist-packages (from matplotlib->mediapipe) (4.57.0)\n",
            "Requirement already satisfied: kiwisolver>=1.3.1 in /usr/local/lib/python3.11/dist-packages (from matplotlib->mediapipe) (1.4.8)\n",
            "Requirement already satisfied: packaging>=20.0 in /usr/local/lib/python3.11/dist-packages (from matplotlib->mediapipe) (24.2)\n",
            "Requirement already satisfied: pillow>=8 in /usr/local/lib/python3.11/dist-packages (from matplotlib->mediapipe) (11.2.1)\n",
            "Requirement already satisfied: pyparsing>=2.3.1 in /usr/local/lib/python3.11/dist-packages (from matplotlib->mediapipe) (3.2.3)\n",
            "Requirement already satisfied: python-dateutil>=2.7 in /usr/local/lib/python3.11/dist-packages (from matplotlib->mediapipe) (2.9.0.post0)\n",
            "Requirement already satisfied: pycparser in /usr/local/lib/python3.11/dist-packages (from CFFI>=1.0->sounddevice>=0.4.4->mediapipe) (2.22)\n",
            "Requirement already satisfied: six>=1.5 in /usr/local/lib/python3.11/dist-packages (from python-dateutil>=2.7->matplotlib->mediapipe) (1.17.0)\n",
            "Downloading mediapipe-0.10.21-cp311-cp311-manylinux_2_28_x86_64.whl (35.6 MB)\n",
            "\u001b[2K   \u001b[90m━━━━━━━━━━━━━━━━━━━━━━━━━━━━━━━━━━━━━━━━\u001b[0m \u001b[32m35.6/35.6 MB\u001b[0m \u001b[31m43.2 MB/s\u001b[0m eta \u001b[36m0:00:00\u001b[0m\n",
            "\u001b[?25hDownloading numpy-1.26.4-cp311-cp311-manylinux_2_17_x86_64.manylinux2014_x86_64.whl (18.3 MB)\n",
            "\u001b[2K   \u001b[90m━━━━━━━━━━━━━━━━━━━━━━━━━━━━━━━━━━━━━━━━\u001b[0m \u001b[32m18.3/18.3 MB\u001b[0m \u001b[31m70.0 MB/s\u001b[0m eta \u001b[36m0:00:00\u001b[0m\n",
            "\u001b[?25hDownloading protobuf-4.25.7-cp37-abi3-manylinux2014_x86_64.whl (294 kB)\n",
            "\u001b[2K   \u001b[90m━━━━━━━━━━━━━━━━━━━━━━━━━━━━━━━━━━━━━━━━\u001b[0m \u001b[32m294.6/294.6 kB\u001b[0m \u001b[31m25.6 MB/s\u001b[0m eta \u001b[36m0:00:00\u001b[0m\n",
            "\u001b[?25hDownloading sounddevice-0.5.1-py3-none-any.whl (32 kB)\n",
            "Installing collected packages: protobuf, numpy, sounddevice, mediapipe\n",
            "  Attempting uninstall: protobuf\n",
            "    Found existing installation: protobuf 5.29.4\n",
            "    Uninstalling protobuf-5.29.4:\n",
            "      Successfully uninstalled protobuf-5.29.4\n",
            "  Attempting uninstall: numpy\n",
            "    Found existing installation: numpy 2.0.2\n",
            "    Uninstalling numpy-2.0.2:\n",
            "      Successfully uninstalled numpy-2.0.2\n",
            "\u001b[31mERROR: pip's dependency resolver does not currently take into account all the packages that are installed. This behaviour is the source of the following dependency conflicts.\n",
            "thinc 8.3.6 requires numpy<3.0.0,>=2.0.0, but you have numpy 1.26.4 which is incompatible.\n",
            "grpcio-status 1.71.0 requires protobuf<6.0dev,>=5.26.1, but you have protobuf 4.25.7 which is incompatible.\n",
            "ydf 0.11.0 requires protobuf<6.0.0,>=5.29.1, but you have protobuf 4.25.7 which is incompatible.\u001b[0m\u001b[31m\n",
            "\u001b[0mSuccessfully installed mediapipe-0.10.21 numpy-1.26.4 protobuf-4.25.7 sounddevice-0.5.1\n"
          ]
        }
      ]
    },
    {
      "cell_type": "code",
      "source": [
        "import mediapipe as mp"
      ],
      "metadata": {
        "id": "wosahifQwxN0"
      },
      "execution_count": null,
      "outputs": []
    },
    {
      "cell_type": "code",
      "source": [
        "from google.colab import files\n",
        "\n",
        "# Upload the zip file (run this cell and manually upload your dataset)\n",
        "uploaded = files.upload()\n",
        "\n",
        "# Extract the zip file\n",
        "zip_path = next(iter(uploaded))\n",
        "extract_folder = '/content/yoga_dataset'\n",
        "\n",
        "with zipfile.ZipFile(zip_path, 'r') as zip_ref:\n",
        "    zip_ref.extractall(extract_folder)\n",
        "\n",
        "# Verify the folder structure\n",
        "!ls /content/dataset1"
      ],
      "metadata": {
        "colab": {
          "base_uri": "https://localhost:8080/",
          "height": 90
        },
        "id": "K5B8uGQ60PiM",
        "outputId": "b3711773-c3a4-4815-b5f0-53bd595378a1"
      },
      "execution_count": null,
      "outputs": [
        {
          "output_type": "display_data",
          "data": {
            "text/plain": [
              "<IPython.core.display.HTML object>"
            ],
            "text/html": [
              "\n",
              "     <input type=\"file\" id=\"files-0bb34f0e-91e2-40a1-8f53-5b4da112d303\" name=\"files[]\" multiple disabled\n",
              "        style=\"border:none\" />\n",
              "     <output id=\"result-0bb34f0e-91e2-40a1-8f53-5b4da112d303\">\n",
              "      Upload widget is only available when the cell has been executed in the\n",
              "      current browser session. Please rerun this cell to enable.\n",
              "      </output>\n",
              "      <script>// Copyright 2017 Google LLC\n",
              "//\n",
              "// Licensed under the Apache License, Version 2.0 (the \"License\");\n",
              "// you may not use this file except in compliance with the License.\n",
              "// You may obtain a copy of the License at\n",
              "//\n",
              "//      http://www.apache.org/licenses/LICENSE-2.0\n",
              "//\n",
              "// Unless required by applicable law or agreed to in writing, software\n",
              "// distributed under the License is distributed on an \"AS IS\" BASIS,\n",
              "// WITHOUT WARRANTIES OR CONDITIONS OF ANY KIND, either express or implied.\n",
              "// See the License for the specific language governing permissions and\n",
              "// limitations under the License.\n",
              "\n",
              "/**\n",
              " * @fileoverview Helpers for google.colab Python module.\n",
              " */\n",
              "(function(scope) {\n",
              "function span(text, styleAttributes = {}) {\n",
              "  const element = document.createElement('span');\n",
              "  element.textContent = text;\n",
              "  for (const key of Object.keys(styleAttributes)) {\n",
              "    element.style[key] = styleAttributes[key];\n",
              "  }\n",
              "  return element;\n",
              "}\n",
              "\n",
              "// Max number of bytes which will be uploaded at a time.\n",
              "const MAX_PAYLOAD_SIZE = 100 * 1024;\n",
              "\n",
              "function _uploadFiles(inputId, outputId) {\n",
              "  const steps = uploadFilesStep(inputId, outputId);\n",
              "  const outputElement = document.getElementById(outputId);\n",
              "  // Cache steps on the outputElement to make it available for the next call\n",
              "  // to uploadFilesContinue from Python.\n",
              "  outputElement.steps = steps;\n",
              "\n",
              "  return _uploadFilesContinue(outputId);\n",
              "}\n",
              "\n",
              "// This is roughly an async generator (not supported in the browser yet),\n",
              "// where there are multiple asynchronous steps and the Python side is going\n",
              "// to poll for completion of each step.\n",
              "// This uses a Promise to block the python side on completion of each step,\n",
              "// then passes the result of the previous step as the input to the next step.\n",
              "function _uploadFilesContinue(outputId) {\n",
              "  const outputElement = document.getElementById(outputId);\n",
              "  const steps = outputElement.steps;\n",
              "\n",
              "  const next = steps.next(outputElement.lastPromiseValue);\n",
              "  return Promise.resolve(next.value.promise).then((value) => {\n",
              "    // Cache the last promise value to make it available to the next\n",
              "    // step of the generator.\n",
              "    outputElement.lastPromiseValue = value;\n",
              "    return next.value.response;\n",
              "  });\n",
              "}\n",
              "\n",
              "/**\n",
              " * Generator function which is called between each async step of the upload\n",
              " * process.\n",
              " * @param {string} inputId Element ID of the input file picker element.\n",
              " * @param {string} outputId Element ID of the output display.\n",
              " * @return {!Iterable<!Object>} Iterable of next steps.\n",
              " */\n",
              "function* uploadFilesStep(inputId, outputId) {\n",
              "  const inputElement = document.getElementById(inputId);\n",
              "  inputElement.disabled = false;\n",
              "\n",
              "  const outputElement = document.getElementById(outputId);\n",
              "  outputElement.innerHTML = '';\n",
              "\n",
              "  const pickedPromise = new Promise((resolve) => {\n",
              "    inputElement.addEventListener('change', (e) => {\n",
              "      resolve(e.target.files);\n",
              "    });\n",
              "  });\n",
              "\n",
              "  const cancel = document.createElement('button');\n",
              "  inputElement.parentElement.appendChild(cancel);\n",
              "  cancel.textContent = 'Cancel upload';\n",
              "  const cancelPromise = new Promise((resolve) => {\n",
              "    cancel.onclick = () => {\n",
              "      resolve(null);\n",
              "    };\n",
              "  });\n",
              "\n",
              "  // Wait for the user to pick the files.\n",
              "  const files = yield {\n",
              "    promise: Promise.race([pickedPromise, cancelPromise]),\n",
              "    response: {\n",
              "      action: 'starting',\n",
              "    }\n",
              "  };\n",
              "\n",
              "  cancel.remove();\n",
              "\n",
              "  // Disable the input element since further picks are not allowed.\n",
              "  inputElement.disabled = true;\n",
              "\n",
              "  if (!files) {\n",
              "    return {\n",
              "      response: {\n",
              "        action: 'complete',\n",
              "      }\n",
              "    };\n",
              "  }\n",
              "\n",
              "  for (const file of files) {\n",
              "    const li = document.createElement('li');\n",
              "    li.append(span(file.name, {fontWeight: 'bold'}));\n",
              "    li.append(span(\n",
              "        `(${file.type || 'n/a'}) - ${file.size} bytes, ` +\n",
              "        `last modified: ${\n",
              "            file.lastModifiedDate ? file.lastModifiedDate.toLocaleDateString() :\n",
              "                                    'n/a'} - `));\n",
              "    const percent = span('0% done');\n",
              "    li.appendChild(percent);\n",
              "\n",
              "    outputElement.appendChild(li);\n",
              "\n",
              "    const fileDataPromise = new Promise((resolve) => {\n",
              "      const reader = new FileReader();\n",
              "      reader.onload = (e) => {\n",
              "        resolve(e.target.result);\n",
              "      };\n",
              "      reader.readAsArrayBuffer(file);\n",
              "    });\n",
              "    // Wait for the data to be ready.\n",
              "    let fileData = yield {\n",
              "      promise: fileDataPromise,\n",
              "      response: {\n",
              "        action: 'continue',\n",
              "      }\n",
              "    };\n",
              "\n",
              "    // Use a chunked sending to avoid message size limits. See b/62115660.\n",
              "    let position = 0;\n",
              "    do {\n",
              "      const length = Math.min(fileData.byteLength - position, MAX_PAYLOAD_SIZE);\n",
              "      const chunk = new Uint8Array(fileData, position, length);\n",
              "      position += length;\n",
              "\n",
              "      const base64 = btoa(String.fromCharCode.apply(null, chunk));\n",
              "      yield {\n",
              "        response: {\n",
              "          action: 'append',\n",
              "          file: file.name,\n",
              "          data: base64,\n",
              "        },\n",
              "      };\n",
              "\n",
              "      let percentDone = fileData.byteLength === 0 ?\n",
              "          100 :\n",
              "          Math.round((position / fileData.byteLength) * 100);\n",
              "      percent.textContent = `${percentDone}% done`;\n",
              "\n",
              "    } while (position < fileData.byteLength);\n",
              "  }\n",
              "\n",
              "  // All done.\n",
              "  yield {\n",
              "    response: {\n",
              "      action: 'complete',\n",
              "    }\n",
              "  };\n",
              "}\n",
              "\n",
              "scope.google = scope.google || {};\n",
              "scope.google.colab = scope.google.colab || {};\n",
              "scope.google.colab._files = {\n",
              "  _uploadFiles,\n",
              "  _uploadFilesContinue,\n",
              "};\n",
              "})(self);\n",
              "</script> "
            ]
          },
          "metadata": {}
        },
        {
          "output_type": "stream",
          "name": "stdout",
          "text": [
            "Saving dataset1.zip to dataset1.zip\n",
            "ls: cannot access '/content/dataset1': No such file or directory\n"
          ]
        }
      ]
    },
    {
      "cell_type": "code",
      "source": [
        "# Initializing mediapipe pose class.\n",
        "mp_pose = mp.solutions.pose\n",
        "\n",
        "# Setting up the Pose function.\n",
        "pose = mp_pose.Pose(static_image_mode=True, min_detection_confidence=0.3, model_complexity=2)\n",
        "\n",
        "# Initializing mediapipe drawing class, useful for annotation.\n",
        "mp_drawing = mp.solutions.drawing_utils"
      ],
      "metadata": {
        "colab": {
          "base_uri": "https://localhost:8080/"
        },
        "id": "i4xkKE8W0jC_",
        "outputId": "ad3049b0-36b1-43f5-bbf2-a1a8374bdd17"
      },
      "execution_count": null,
      "outputs": [
        {
          "output_type": "stream",
          "name": "stdout",
          "text": [
            "Downloading model to /usr/local/lib/python3.11/dist-packages/mediapipe/modules/pose_landmark/pose_landmark_heavy.tflite\n"
          ]
        }
      ]
    },
    {
      "cell_type": "code",
      "source": [
        "import os\n",
        "import cv2\n",
        "import pandas as pd\n",
        "import mediapipe as mp\n",
        "from tqdm import tqdm  # For progress bars\n",
        "\n",
        "# Initialize MediaPipe Pose\n",
        "mp_pose = mp.solutions.pose\n",
        "pose = mp_pose.Pose(\n",
        "    static_image_mode=True,\n",
        "    min_detection_confidence=0.3,  # Lowered threshold\n",
        "    model_complexity=2  # Higher accuracy\n",
        ")\n",
        "\n",
        "def extract_keypoints(image_path):\n",
        "    \"\"\"Improved version with better error handling\"\"\"\n",
        "    try:\n",
        "        image = cv2.imread(image_path)\n",
        "        if image is None:\n",
        "            print(f\"Could not read image: {image_path}\")\n",
        "            return None\n",
        "\n",
        "        # Convert BGR to RGB\n",
        "        image_rgb = cv2.cvtColor(image, cv2.COLOR_BGR2RGB)\n",
        "\n",
        "        # Process the image\n",
        "        results = pose.process(image_rgb)\n",
        "\n",
        "        if not results.pose_landmarks:\n",
        "            print(f\"No pose detected in: {image_path}\")\n",
        "            return None\n",
        "\n",
        "        # Extract just x,y coordinates (more reliable than x,y,z,visibility)\n",
        "        landmarks = []\n",
        "        for landmark in results.pose_landmarks.landmark:\n",
        "            landmarks.extend([landmark.x, landmark.y])  # Only x,y\n",
        "\n",
        "        return landmarks  # 66 values (33 landmarks × 2 coordinates)\n",
        "\n",
        "    except Exception as e:\n",
        "        print(f\"Error processing {image_path}: {str(e)}\")\n",
        "        return None\n",
        "\n",
        "def process_dataset(dataset_path):\n",
        "    \"\"\"Fixed version with recursive folder search\"\"\"\n",
        "    data = []\n",
        "    labels = []\n",
        "    processed_count = 0\n",
        "    failed_count = 0\n",
        "\n",
        "    print(f\"\\nScanning dataset at: {dataset_path}\")\n",
        "\n",
        "    # Walk through all subdirectories\n",
        "    for root, dirs, files in os.walk(dataset_path):\n",
        "        for file in tqdm(files, desc=f\"Processing {os.path.basename(root)}\"):\n",
        "            if file.lower().endswith(('.png', '.jpg', '.jpeg')):\n",
        "                image_path = os.path.join(root, file)\n",
        "\n",
        "                # Get pose name from parent folder (assuming structure: /root/pose_name/...)\n",
        "                pose_name = os.path.basename(root)\n",
        "\n",
        "                keypoints = extract_keypoints(image_path)\n",
        "                if keypoints:\n",
        "                    data.append(keypoints)\n",
        "                    labels.append(pose_name)\n",
        "                    processed_count += 1\n",
        "                else:\n",
        "                    failed_count += 1\n",
        "\n",
        "    print(f\"\\nResults:\")\n",
        "    print(f\"- Successfully processed: {processed_count} images\")\n",
        "    print(f\"- Failed to process: {failed_count} images\")\n",
        "\n",
        "    if not data:\n",
        "        raise ValueError(\"No valid poses found! Check:\")\n",
        "        print(\"1. Image paths are correct\")\n",
        "        print(\"2. Images contain clear full-body poses\")\n",
        "        print(\"3. Folder structure matches expected format\")\n",
        "\n",
        "    # Create DataFrame with column names\n",
        "    columns = [f\"joint_{i//2}_x\" if i%2==0 else f\"joint_{i//2}_y\"\n",
        "               for i in range(66)]  # For 33 joints (x,y)\n",
        "\n",
        "    df = pd.DataFrame(data, columns=columns)\n",
        "    df['pose_name'] = labels\n",
        "\n",
        "    return df\n",
        "\n",
        "# Test with a sample image first\n",
        "# print(\"Testing with sample image...\")\n",
        "# test_image_path = \"/content/dataset/Warrior-Pose/image1.jpg\"  # Change to a real path\n",
        "# test_keypoints = extract_keypoints(test_image_path)\n",
        "# print(f\"Test keypoints: {'Found' if test_keypoints else 'Missing'}\")\n",
        "\n",
        "# Process full dataset\n",
        "dataset_path = '/content/yoga_dataset'\n",
        "try:\n",
        "    df = process_dataset(dataset_path)\n",
        "    print(\"\\nSample data:\")\n",
        "    print(df.head())\n",
        "\n",
        "    # Save to CSV\n",
        "    csv_path = '/content/yoga_pose_keypoints.csv'\n",
        "    df.to_csv(csv_path, index=False)\n",
        "    print(f\"\\nSaved to: {csv_path}\")\n",
        "\n",
        "except Exception as e:\n",
        "    print(f\"\\nCritical error: {str(e)}\")\n",
        "    print(\"Check these common issues:\")\n",
        "    print(\"1. Wrong dataset_path (current: {dataset_path})\")\n",
        "    print(\"2. Images don't contain detectable full-body poses\")\n",
        "    print(\"3. MediaPipe not detecting poses (try simpler images)\")"
      ],
      "metadata": {
        "colab": {
          "base_uri": "https://localhost:8080/"
        },
        "collapsed": true,
        "id": "luzHa7Rj6Uk4",
        "outputId": "29665d02-ad10-45e5-bff1-9d55f9dc4bc8"
      },
      "execution_count": null,
      "outputs": [
        {
          "output_type": "stream",
          "name": "stdout",
          "text": [
            "\n",
            "Scanning dataset at: /content/yoga_dataset\n"
          ]
        },
        {
          "output_type": "stream",
          "name": "stderr",
          "text": [
            "Processing yoga_dataset: 0it [00:00, ?it/s]\n",
            "Processing Pigeon-Pose-20221027T035540Z-001: 0it [00:00, ?it/s]\n",
            "Processing Pigeon-Pose:   2%|▏         | 5/210 [00:01<00:32,  6.29it/s]"
          ]
        },
        {
          "output_type": "stream",
          "name": "stdout",
          "text": [
            "No pose detected in: /content/yoga_dataset/Pigeon-Pose-20221027T035540Z-001/Pigeon-Pose/image13.jpeg\n"
          ]
        },
        {
          "output_type": "stream",
          "name": "stderr",
          "text": [
            "Processing Pigeon-Pose:  14%|█▍        | 29/210 [00:04<00:17, 10.51it/s]"
          ]
        },
        {
          "output_type": "stream",
          "name": "stdout",
          "text": [
            "No pose detected in: /content/yoga_dataset/Pigeon-Pose-20221027T035540Z-001/Pigeon-Pose/images33.jpg\n"
          ]
        },
        {
          "output_type": "stream",
          "name": "stderr",
          "text": [
            "Processing Pigeon-Pose:  24%|██▍       | 51/210 [00:07<00:17,  8.97it/s]"
          ]
        },
        {
          "output_type": "stream",
          "name": "stdout",
          "text": [
            "No pose detected in: /content/yoga_dataset/Pigeon-Pose-20221027T035540Z-001/Pigeon-Pose/images27.jpg\n"
          ]
        },
        {
          "output_type": "stream",
          "name": "stderr",
          "text": [
            "Processing Pigeon-Pose:  33%|███▎      | 70/210 [00:09<00:13, 10.15it/s]"
          ]
        },
        {
          "output_type": "stream",
          "name": "stdout",
          "text": [
            "No pose detected in: /content/yoga_dataset/Pigeon-Pose-20221027T035540Z-001/Pigeon-Pose/images82.jpg\n"
          ]
        },
        {
          "output_type": "stream",
          "name": "stderr",
          "text": [
            "Processing Pigeon-Pose:  41%|████▏     | 87/210 [00:11<00:14,  8.68it/s]"
          ]
        },
        {
          "output_type": "stream",
          "name": "stdout",
          "text": [
            "No pose detected in: /content/yoga_dataset/Pigeon-Pose-20221027T035540Z-001/Pigeon-Pose/images71.jpg\n"
          ]
        },
        {
          "output_type": "stream",
          "name": "stderr",
          "text": [
            "Processing Pigeon-Pose:  48%|████▊     | 100/210 [00:13<00:11,  9.99it/s]"
          ]
        },
        {
          "output_type": "stream",
          "name": "stdout",
          "text": [
            "No pose detected in: /content/yoga_dataset/Pigeon-Pose-20221027T035540Z-001/Pigeon-Pose/images8.jpg\n"
          ]
        },
        {
          "output_type": "stream",
          "name": "stderr",
          "text": [
            "Processing Pigeon-Pose:  68%|██████▊   | 143/210 [00:19<00:06, 10.66it/s]"
          ]
        },
        {
          "output_type": "stream",
          "name": "stdout",
          "text": [
            "No pose detected in: /content/yoga_dataset/Pigeon-Pose-20221027T035540Z-001/Pigeon-Pose/images39.jpg\n"
          ]
        },
        {
          "output_type": "stream",
          "name": "stderr",
          "text": [
            "Processing Pigeon-Pose:  74%|███████▍  | 155/210 [00:20<00:04, 11.03it/s]"
          ]
        },
        {
          "output_type": "stream",
          "name": "stdout",
          "text": [
            "No pose detected in: /content/yoga_dataset/Pigeon-Pose-20221027T035540Z-001/Pigeon-Pose/images2.jpg\n"
          ]
        },
        {
          "output_type": "stream",
          "name": "stderr",
          "text": [
            "Processing Pigeon-Pose:  82%|████████▏ | 172/210 [00:22<00:03, 10.26it/s]"
          ]
        },
        {
          "output_type": "stream",
          "name": "stdout",
          "text": [
            "No pose detected in: /content/yoga_dataset/Pigeon-Pose-20221027T035540Z-001/Pigeon-Pose/image7.jpeg\n"
          ]
        },
        {
          "output_type": "stream",
          "name": "stderr",
          "text": [
            "Processing Pigeon-Pose:  85%|████████▍ | 178/210 [00:23<00:02, 11.34it/s]"
          ]
        },
        {
          "output_type": "stream",
          "name": "stdout",
          "text": [
            "No pose detected in: /content/yoga_dataset/Pigeon-Pose-20221027T035540Z-001/Pigeon-Pose/AOh-ky1xuGSuo1cFBPOmcqkrelO7CtXbSsHfwZPiu8CQbAs64-c-mo.jpg\n"
          ]
        },
        {
          "output_type": "stream",
          "name": "stderr",
          "text": [
            "Processing Pigeon-Pose:  88%|████████▊ | 185/210 [00:24<00:04,  5.65it/s]"
          ]
        },
        {
          "output_type": "stream",
          "name": "stdout",
          "text": [
            "No pose detected in: /content/yoga_dataset/Pigeon-Pose-20221027T035540Z-001/Pigeon-Pose/de5a5ac6ab959b5ae9a1dbb9bfc4fe48.jpg\n"
          ]
        },
        {
          "output_type": "stream",
          "name": "stderr",
          "text": [
            "Processing Pigeon-Pose:  94%|█████████▍| 197/210 [00:25<00:01, 10.42it/s]"
          ]
        },
        {
          "output_type": "stream",
          "name": "stdout",
          "text": [
            "No pose detected in: /content/yoga_dataset/Pigeon-Pose-20221027T035540Z-001/Pigeon-Pose/image21.jpeg\n"
          ]
        },
        {
          "output_type": "stream",
          "name": "stderr",
          "text": [
            "Processing Pigeon-Pose:  97%|█████████▋| 204/210 [00:26<00:00,  9.11it/s]"
          ]
        },
        {
          "output_type": "stream",
          "name": "stdout",
          "text": [
            "No pose detected in: /content/yoga_dataset/Pigeon-Pose-20221027T035540Z-001/Pigeon-Pose/image12.jpeg\n"
          ]
        },
        {
          "output_type": "stream",
          "name": "stderr",
          "text": [
            "Processing Pigeon-Pose:  99%|█████████▉| 208/210 [00:27<00:00,  5.72it/s]"
          ]
        },
        {
          "output_type": "stream",
          "name": "stdout",
          "text": [
            "No pose detected in: /content/yoga_dataset/Pigeon-Pose-20221027T035540Z-001/Pigeon-Pose/images69.jpg\n"
          ]
        },
        {
          "output_type": "stream",
          "name": "stderr",
          "text": [
            "Processing Pigeon-Pose: 100%|██████████| 210/210 [00:27<00:00,  7.59it/s]\n",
            "Processing Downward-Dog-Pose-20221027T035536Z-001: 0it [00:00, ?it/s]\n",
            "Processing Downward-Dog-Pose:   5%|▍         | 11/226 [00:01<00:23,  9.24it/s]"
          ]
        },
        {
          "output_type": "stream",
          "name": "stdout",
          "text": [
            "No pose detected in: /content/yoga_dataset/Downward-Dog-Pose-20221027T035536Z-001/Downward-Dog-Pose/image9.jpeg\n"
          ]
        },
        {
          "output_type": "stream",
          "name": "stderr",
          "text": [
            "Processing Downward-Dog-Pose:   7%|▋         | 15/226 [00:02<00:18, 11.15it/s]"
          ]
        },
        {
          "output_type": "stream",
          "name": "stdout",
          "text": [
            "No pose detected in: /content/yoga_dataset/Downward-Dog-Pose-20221027T035536Z-001/Downward-Dog-Pose/59379e4bcb4f419aad86e5c76ba38a7d.png\n"
          ]
        },
        {
          "output_type": "stream",
          "name": "stderr",
          "text": [
            "Processing Downward-Dog-Pose:  15%|█▍        | 33/226 [00:03<00:18, 10.48it/s]"
          ]
        },
        {
          "output_type": "stream",
          "name": "stdout",
          "text": [
            "No pose detected in: /content/yoga_dataset/Downward-Dog-Pose-20221027T035536Z-001/Downward-Dog-Pose/images102.jpg\n"
          ]
        },
        {
          "output_type": "stream",
          "name": "stderr",
          "text": [
            "\rProcessing Downward-Dog-Pose:  15%|█▌        | 35/226 [00:04<00:16, 11.76it/s]"
          ]
        },
        {
          "output_type": "stream",
          "name": "stdout",
          "text": [
            "No pose detected in: /content/yoga_dataset/Downward-Dog-Pose-20221027T035536Z-001/Downward-Dog-Pose/yoga-pose-set-downward-dog-226767815.jpg\n"
          ]
        },
        {
          "output_type": "stream",
          "name": "stderr",
          "text": [
            "Processing Downward-Dog-Pose:  21%|██        | 47/226 [00:05<00:15, 11.87it/s]"
          ]
        },
        {
          "output_type": "stream",
          "name": "stdout",
          "text": [
            "No pose detected in: /content/yoga_dataset/Downward-Dog-Pose-20221027T035536Z-001/Downward-Dog-Pose/downward-facing-dog-pose-adho-mukha-svanasana.jpg\n",
            "No pose detected in: /content/yoga_dataset/Downward-Dog-Pose-20221027T035536Z-001/Downward-Dog-Pose/images63.jpg\n"
          ]
        },
        {
          "output_type": "stream",
          "name": "stderr",
          "text": [
            "Processing Downward-Dog-Pose:  24%|██▍       | 55/226 [00:06<00:15, 10.76it/s]"
          ]
        },
        {
          "output_type": "stream",
          "name": "stdout",
          "text": [
            "No pose detected in: /content/yoga_dataset/Downward-Dog-Pose-20221027T035536Z-001/Downward-Dog-Pose/images83.jpg\n"
          ]
        },
        {
          "output_type": "stream",
          "name": "stderr",
          "text": [
            "Processing Downward-Dog-Pose:  26%|██▌       | 59/226 [00:06<00:14, 11.27it/s]"
          ]
        },
        {
          "output_type": "stream",
          "name": "stdout",
          "text": [
            "No pose detected in: /content/yoga_dataset/Downward-Dog-Pose-20221027T035536Z-001/Downward-Dog-Pose/images9.jpg\n"
          ]
        },
        {
          "output_type": "stream",
          "name": "stderr",
          "text": [
            "Processing Downward-Dog-Pose:  40%|███▉      | 90/226 [00:11<00:13, 10.32it/s]"
          ]
        },
        {
          "output_type": "stream",
          "name": "stdout",
          "text": [
            "No pose detected in: /content/yoga_dataset/Downward-Dog-Pose-20221027T035536Z-001/Downward-Dog-Pose/yoga-pose-set-downward-dog-2267678152.jpg\n"
          ]
        },
        {
          "output_type": "stream",
          "name": "stderr",
          "text": [
            "Processing Downward-Dog-Pose:  47%|████▋     | 107/226 [00:13<00:17,  6.73it/s]"
          ]
        },
        {
          "output_type": "stream",
          "name": "stdout",
          "text": [
            "No pose detected in: /content/yoga_dataset/Downward-Dog-Pose-20221027T035536Z-001/Downward-Dog-Pose/images66.jpg\n"
          ]
        },
        {
          "output_type": "stream",
          "name": "stderr",
          "text": [
            "\rProcessing Downward-Dog-Pose:  48%|████▊     | 109/226 [00:14<00:13,  8.44it/s]"
          ]
        },
        {
          "output_type": "stream",
          "name": "stdout",
          "text": [
            "No pose detected in: /content/yoga_dataset/Downward-Dog-Pose-20221027T035536Z-001/Downward-Dog-Pose/yoga-harmony-sketch-vector-illustration-isolated-on-white-background-2E3XG8F.jpg\n"
          ]
        },
        {
          "output_type": "stream",
          "name": "stderr",
          "text": [
            "Processing Downward-Dog-Pose:  54%|█████▍    | 123/226 [00:15<00:09, 11.18it/s]"
          ]
        },
        {
          "output_type": "stream",
          "name": "stdout",
          "text": [
            "No pose detected in: /content/yoga_dataset/Downward-Dog-Pose-20221027T035536Z-001/Downward-Dog-Pose/images12.jpg\n"
          ]
        },
        {
          "output_type": "stream",
          "name": "stderr",
          "text": [
            "Processing Downward-Dog-Pose:  60%|██████    | 136/226 [00:16<00:09,  9.00it/s]"
          ]
        },
        {
          "output_type": "stream",
          "name": "stdout",
          "text": [
            "No pose detected in: /content/yoga_dataset/Downward-Dog-Pose-20221027T035536Z-001/Downward-Dog-Pose/images67.jpg\n"
          ]
        },
        {
          "output_type": "stream",
          "name": "stderr",
          "text": [
            "Processing Downward-Dog-Pose:  64%|██████▎   | 144/226 [00:17<00:07, 10.87it/s]"
          ]
        },
        {
          "output_type": "stream",
          "name": "stdout",
          "text": [
            "No pose detected in: /content/yoga_dataset/Downward-Dog-Pose-20221027T035536Z-001/Downward-Dog-Pose/images20.jpg\n"
          ]
        },
        {
          "output_type": "stream",
          "name": "stderr",
          "text": [
            "Processing Downward-Dog-Pose:  71%|███████   | 161/226 [00:19<00:05, 11.28it/s]"
          ]
        },
        {
          "output_type": "stream",
          "name": "stdout",
          "text": [
            "No pose detected in: /content/yoga_dataset/Downward-Dog-Pose-20221027T035536Z-001/Downward-Dog-Pose/images44.jpg\n"
          ]
        },
        {
          "output_type": "stream",
          "name": "stderr",
          "text": [
            "Processing Downward-Dog-Pose:  85%|████████▌ | 193/226 [00:23<00:02, 11.02it/s]"
          ]
        },
        {
          "output_type": "stream",
          "name": "stdout",
          "text": [
            "No pose detected in: /content/yoga_dataset/Downward-Dog-Pose-20221027T035536Z-001/Downward-Dog-Pose/image15.jpeg\n",
            "No pose detected in: /content/yoga_dataset/Downward-Dog-Pose-20221027T035536Z-001/Downward-Dog-Pose/AOh-ky1xuGSuo1cFBPOmcqkrelO7CtXbSsHfwZPiu8CQbAs64-c-mo.jpg\n"
          ]
        },
        {
          "output_type": "stream",
          "name": "stderr",
          "text": [
            "Processing Downward-Dog-Pose:  94%|█████████▍| 213/226 [00:25<00:01,  7.01it/s]"
          ]
        },
        {
          "output_type": "stream",
          "name": "stdout",
          "text": [
            "No pose detected in: /content/yoga_dataset/Downward-Dog-Pose-20221027T035536Z-001/Downward-Dog-Pose/images92.jpg\n"
          ]
        },
        {
          "output_type": "stream",
          "name": "stderr",
          "text": [
            "Processing Downward-Dog-Pose: 100%|██████████| 226/226 [00:27<00:00,  8.17it/s]\n",
            "Processing Tree-Pose-20221027T035555Z-001: 0it [00:00, ?it/s]\n",
            "Processing Tree-Pose:   1%|          | 4/334 [00:00<00:26, 12.35it/s]"
          ]
        },
        {
          "output_type": "stream",
          "name": "stdout",
          "text": [
            "No pose detected in: /content/yoga_dataset/Tree-Pose-20221027T035555Z-001/Tree-Pose/8182ced0e2784fc1b5737f8bda1de28a.png\n"
          ]
        },
        {
          "output_type": "stream",
          "name": "stderr",
          "text": [
            "Processing Tree-Pose:   3%|▎         | 10/334 [00:00<00:28, 11.49it/s]"
          ]
        },
        {
          "output_type": "stream",
          "name": "stdout",
          "text": [
            "No pose detected in: /content/yoga_dataset/Tree-Pose-20221027T035555Z-001/Tree-Pose/images174.jpg\n"
          ]
        },
        {
          "output_type": "stream",
          "name": "stderr",
          "text": [
            "Processing Tree-Pose:   4%|▍         | 14/334 [00:01<00:27, 11.84it/s]"
          ]
        },
        {
          "output_type": "stream",
          "name": "stdout",
          "text": [
            "No pose detected in: /content/yoga_dataset/Tree-Pose-20221027T035555Z-001/Tree-Pose/images72.jpg\n"
          ]
        },
        {
          "output_type": "stream",
          "name": "stderr",
          "text": [
            "Processing Tree-Pose:   5%|▌         | 18/334 [00:01<00:27, 11.68it/s]"
          ]
        },
        {
          "output_type": "stream",
          "name": "stdout",
          "text": [
            "No pose detected in: /content/yoga_dataset/Tree-Pose-20221027T035555Z-001/Tree-Pose/images111.jpg\n",
            "No pose detected in: /content/yoga_dataset/Tree-Pose-20221027T035555Z-001/Tree-Pose/yoga-tree-pose-variations-male-set-vector-25148654.jpg\n"
          ]
        },
        {
          "output_type": "stream",
          "name": "stderr",
          "text": [
            "Processing Tree-Pose:   8%|▊         | 26/334 [00:02<00:27, 11.10it/s]"
          ]
        },
        {
          "output_type": "stream",
          "name": "stdout",
          "text": [
            "No pose detected in: /content/yoga_dataset/Tree-Pose-20221027T035555Z-001/Tree-Pose/images179.jpg\n"
          ]
        },
        {
          "output_type": "stream",
          "name": "stderr",
          "text": [
            "Processing Tree-Pose:  10%|█         | 34/334 [00:03<00:27, 10.99it/s]"
          ]
        },
        {
          "output_type": "stream",
          "name": "stdout",
          "text": [
            "No pose detected in: /content/yoga_dataset/Tree-Pose-20221027T035555Z-001/Tree-Pose/yoga-tree-pose-27663077.jpg\n"
          ]
        },
        {
          "output_type": "stream",
          "name": "stderr",
          "text": [
            "Processing Tree-Pose:  12%|█▏        | 40/334 [00:03<00:30,  9.60it/s]"
          ]
        },
        {
          "output_type": "stream",
          "name": "stdout",
          "text": [
            "No pose detected in: /content/yoga_dataset/Tree-Pose-20221027T035555Z-001/Tree-Pose/images116.jpg\n"
          ]
        },
        {
          "output_type": "stream",
          "name": "stderr",
          "text": [
            "Processing Tree-Pose:  16%|█▌        | 53/334 [00:05<00:31,  8.88it/s]"
          ]
        },
        {
          "output_type": "stream",
          "name": "stdout",
          "text": [
            "No pose detected in: /content/yoga_dataset/Tree-Pose-20221027T035555Z-001/Tree-Pose/images134.jpg\n"
          ]
        },
        {
          "output_type": "stream",
          "name": "stderr",
          "text": [
            "Processing Tree-Pose:  17%|█▋        | 56/334 [00:05<00:25, 10.71it/s]"
          ]
        },
        {
          "output_type": "stream",
          "name": "stdout",
          "text": [
            "No pose detected in: /content/yoga_dataset/Tree-Pose-20221027T035555Z-001/Tree-Pose/image25.jpeg\n"
          ]
        },
        {
          "output_type": "stream",
          "name": "stderr",
          "text": [
            "Processing Tree-Pose:  19%|█▉        | 63/334 [00:06<00:24, 11.29it/s]"
          ]
        },
        {
          "output_type": "stream",
          "name": "stdout",
          "text": [
            "No pose detected in: /content/yoga_dataset/Tree-Pose-20221027T035555Z-001/Tree-Pose/images99.jpg\n"
          ]
        },
        {
          "output_type": "stream",
          "name": "stderr",
          "text": [
            "Processing Tree-Pose:  22%|██▏       | 74/334 [00:07<00:24, 10.83it/s]"
          ]
        },
        {
          "output_type": "stream",
          "name": "stdout",
          "text": [
            "No pose detected in: /content/yoga_dataset/Tree-Pose-20221027T035555Z-001/Tree-Pose/images213.jpg\n"
          ]
        },
        {
          "output_type": "stream",
          "name": "stderr",
          "text": [
            "Processing Tree-Pose:  25%|██▌       | 85/334 [00:08<00:22, 11.01it/s]"
          ]
        },
        {
          "output_type": "stream",
          "name": "stdout",
          "text": [
            "No pose detected in: /content/yoga_dataset/Tree-Pose-20221027T035555Z-001/Tree-Pose/image11.jpeg\n"
          ]
        },
        {
          "output_type": "stream",
          "name": "stderr",
          "text": [
            "Processing Tree-Pose:  28%|██▊       | 93/334 [00:09<00:31,  7.63it/s]"
          ]
        },
        {
          "output_type": "stream",
          "name": "stdout",
          "text": [
            "No pose detected in: /content/yoga_dataset/Tree-Pose-20221027T035555Z-001/Tree-Pose/images17.jpg\n"
          ]
        },
        {
          "output_type": "stream",
          "name": "stderr",
          "text": [
            "Processing Tree-Pose:  30%|██▉       | 99/334 [00:10<00:33,  7.07it/s]"
          ]
        },
        {
          "output_type": "stream",
          "name": "stdout",
          "text": [
            "No pose detected in: /content/yoga_dataset/Tree-Pose-20221027T035555Z-001/Tree-Pose/Tree-pose-benefits.png\n"
          ]
        },
        {
          "output_type": "stream",
          "name": "stderr",
          "text": [
            "Processing Tree-Pose:  34%|███▍      | 115/334 [00:12<00:20, 10.65it/s]"
          ]
        },
        {
          "output_type": "stream",
          "name": "stdout",
          "text": [
            "No pose detected in: /content/yoga_dataset/Tree-Pose-20221027T035555Z-001/Tree-Pose/images23.jpg\n"
          ]
        },
        {
          "output_type": "stream",
          "name": "stderr",
          "text": [
            "Processing Tree-Pose:  36%|███▌      | 119/334 [00:12<00:19, 11.23it/s]"
          ]
        },
        {
          "output_type": "stream",
          "name": "stdout",
          "text": [
            "No pose detected in: /content/yoga_dataset/Tree-Pose-20221027T035555Z-001/Tree-Pose/images197.jpg\n"
          ]
        },
        {
          "output_type": "stream",
          "name": "stderr",
          "text": [
            "Processing Tree-Pose:  37%|███▋      | 123/334 [00:13<00:16, 13.09it/s]"
          ]
        },
        {
          "output_type": "stream",
          "name": "stdout",
          "text": [
            "No pose detected in: /content/yoga_dataset/Tree-Pose-20221027T035555Z-001/Tree-Pose/tree-pose-variations-yoga-asanas-set-vector-27104536.jpg\n",
            "No pose detected in: /content/yoga_dataset/Tree-Pose-20221027T035555Z-001/Tree-Pose/images97.jpg\n"
          ]
        },
        {
          "output_type": "stream",
          "name": "stderr",
          "text": [
            "Processing Tree-Pose:  45%|████▍     | 149/334 [00:16<00:17, 10.75it/s]"
          ]
        },
        {
          "output_type": "stream",
          "name": "stdout",
          "text": [
            "No pose detected in: /content/yoga_dataset/Tree-Pose-20221027T035555Z-001/Tree-Pose/images70.jpg\n",
            "No pose detected in: /content/yoga_dataset/Tree-Pose-20221027T035555Z-001/Tree-Pose/images4.jpg\n"
          ]
        },
        {
          "output_type": "stream",
          "name": "stderr",
          "text": [
            "Processing Tree-Pose:  55%|█████▍    | 183/334 [00:20<00:13, 11.26it/s]"
          ]
        },
        {
          "output_type": "stream",
          "name": "stdout",
          "text": [
            "No pose detected in: /content/yoga_dataset/Tree-Pose-20221027T035555Z-001/Tree-Pose/images100.jpg\n"
          ]
        },
        {
          "output_type": "stream",
          "name": "stderr",
          "text": [
            "Processing Tree-Pose:  58%|█████▊    | 195/334 [00:21<00:12, 10.88it/s]"
          ]
        },
        {
          "output_type": "stream",
          "name": "stdout",
          "text": [
            "No pose detected in: /content/yoga_dataset/Tree-Pose-20221027T035555Z-001/Tree-Pose/images122.jpg\n"
          ]
        },
        {
          "output_type": "stream",
          "name": "stderr",
          "text": [
            "Processing Tree-Pose:  63%|██████▎   | 211/334 [00:23<00:17,  6.95it/s]"
          ]
        },
        {
          "output_type": "stream",
          "name": "stdout",
          "text": [
            "No pose detected in: /content/yoga_dataset/Tree-Pose-20221027T035555Z-001/Tree-Pose/images88.jpg\n"
          ]
        },
        {
          "output_type": "stream",
          "name": "stderr",
          "text": [
            "Processing Tree-Pose:  64%|██████▍   | 215/334 [00:24<00:12,  9.35it/s]"
          ]
        },
        {
          "output_type": "stream",
          "name": "stdout",
          "text": [
            "No pose detected in: /content/yoga_dataset/Tree-Pose-20221027T035555Z-001/Tree-Pose/images57.jpg\n",
            "No pose detected in: /content/yoga_dataset/Tree-Pose-20221027T035555Z-001/Tree-Pose/images104.jpg\n"
          ]
        },
        {
          "output_type": "stream",
          "name": "stderr",
          "text": [
            "Processing Tree-Pose:  68%|██████▊   | 228/334 [00:27<00:29,  3.56it/s]"
          ]
        },
        {
          "output_type": "stream",
          "name": "stdout",
          "text": [
            "No pose detected in: /content/yoga_dataset/Tree-Pose-20221027T035555Z-001/Tree-Pose/images44.jpg\n"
          ]
        },
        {
          "output_type": "stream",
          "name": "stderr",
          "text": [
            "Processing Tree-Pose:  73%|███████▎  | 244/334 [00:30<00:09,  9.41it/s]"
          ]
        },
        {
          "output_type": "stream",
          "name": "stdout",
          "text": [
            "No pose detected in: /content/yoga_dataset/Tree-Pose-20221027T035555Z-001/Tree-Pose/double_tree_pose__dvi_vrksasana_yoga.png\n"
          ]
        },
        {
          "output_type": "stream",
          "name": "stderr",
          "text": [
            "Processing Tree-Pose:  75%|███████▍  | 250/334 [00:30<00:06, 13.02it/s]"
          ]
        },
        {
          "output_type": "stream",
          "name": "stdout",
          "text": [
            "No pose detected in: /content/yoga_dataset/Tree-Pose-20221027T035555Z-001/Tree-Pose/tree-pose-yoga-workout-outline-260nw-1911225373.jpg\n",
            "No pose detected in: /content/yoga_dataset/Tree-Pose-20221027T035555Z-001/Tree-Pose/images78.jpg\n"
          ]
        },
        {
          "output_type": "stream",
          "name": "stderr",
          "text": [
            "Processing Tree-Pose:  77%|███████▋  | 258/334 [00:31<00:06, 12.49it/s]"
          ]
        },
        {
          "output_type": "stream",
          "name": "stdout",
          "text": [
            "No pose detected in: /content/yoga_dataset/Tree-Pose-20221027T035555Z-001/Tree-Pose/images.jpg\n",
            "No pose detected in: /content/yoga_dataset/Tree-Pose-20221027T035555Z-001/Tree-Pose/blog-treePose_600x.jpg\n"
          ]
        },
        {
          "output_type": "stream",
          "name": "stderr",
          "text": [
            "Processing Tree-Pose:  79%|███████▉  | 264/334 [00:31<00:06, 11.63it/s]"
          ]
        },
        {
          "output_type": "stream",
          "name": "stdout",
          "text": [
            "No pose detected in: /content/yoga_dataset/Tree-Pose-20221027T035555Z-001/Tree-Pose/images170.jpg\n",
            "No pose detected in: /content/yoga_dataset/Tree-Pose-20221027T035555Z-001/Tree-Pose/images19.jpg\n"
          ]
        },
        {
          "output_type": "stream",
          "name": "stderr",
          "text": [
            "Processing Tree-Pose:  80%|████████  | 268/334 [00:32<00:05, 11.32it/s]"
          ]
        },
        {
          "output_type": "stream",
          "name": "stdout",
          "text": [
            "No pose detected in: /content/yoga_dataset/Tree-Pose-20221027T035555Z-001/Tree-Pose/images86.jpg\n"
          ]
        },
        {
          "output_type": "stream",
          "name": "stderr",
          "text": [
            "Processing Tree-Pose:  81%|████████▏ | 272/334 [00:32<00:05, 11.77it/s]"
          ]
        },
        {
          "output_type": "stream",
          "name": "stdout",
          "text": [
            "No pose detected in: /content/yoga_dataset/Tree-Pose-20221027T035555Z-001/Tree-Pose/image7.jpeg\n"
          ]
        },
        {
          "output_type": "stream",
          "name": "stderr",
          "text": [
            "Processing Tree-Pose:  85%|████████▌ | 284/334 [00:33<00:04, 10.93it/s]"
          ]
        },
        {
          "output_type": "stream",
          "name": "stdout",
          "text": [
            "No pose detected in: /content/yoga_dataset/Tree-Pose-20221027T035555Z-001/Tree-Pose/AOh-ky1xuGSuo1cFBPOmcqkrelO7CtXbSsHfwZPiu8CQbAs64-c-mo.jpg\n"
          ]
        },
        {
          "output_type": "stream",
          "name": "stderr",
          "text": [
            "Processing Tree-Pose:  86%|████████▌ | 287/334 [00:34<00:06,  6.92it/s]"
          ]
        },
        {
          "output_type": "stream",
          "name": "stdout",
          "text": [
            "No pose detected in: /content/yoga_dataset/Tree-Pose-20221027T035555Z-001/Tree-Pose/images147.jpg\n"
          ]
        },
        {
          "output_type": "stream",
          "name": "stderr",
          "text": [
            "Processing Tree-Pose:  90%|████████▉ | 299/334 [00:38<00:09,  3.54it/s]"
          ]
        },
        {
          "output_type": "stream",
          "name": "stdout",
          "text": [
            "No pose detected in: /content/yoga_dataset/Tree-Pose-20221027T035555Z-001/Tree-Pose/images42.jpg\n"
          ]
        },
        {
          "output_type": "stream",
          "name": "stderr",
          "text": [
            "Processing Tree-Pose:  93%|█████████▎| 311/334 [00:40<00:02,  9.96it/s]"
          ]
        },
        {
          "output_type": "stream",
          "name": "stdout",
          "text": [
            "No pose detected in: /content/yoga_dataset/Tree-Pose-20221027T035555Z-001/Tree-Pose/images21.jpg\n",
            "No pose detected in: /content/yoga_dataset/Tree-Pose-20221027T035555Z-001/Tree-Pose/images40.jpg\n"
          ]
        },
        {
          "output_type": "stream",
          "name": "stderr",
          "text": [
            "\rProcessing Tree-Pose:  94%|█████████▎| 313/334 [00:40<00:02,  9.38it/s]"
          ]
        },
        {
          "output_type": "stream",
          "name": "stdout",
          "text": [
            "No pose detected in: /content/yoga_dataset/Tree-Pose-20221027T035555Z-001/Tree-Pose/images92.jpg\n"
          ]
        },
        {
          "output_type": "stream",
          "name": "stderr",
          "text": [
            "Processing Tree-Pose:  98%|█████████▊| 328/334 [00:43<00:01,  4.58it/s]"
          ]
        },
        {
          "output_type": "stream",
          "name": "stdout",
          "text": [
            "No pose detected in: /content/yoga_dataset/Tree-Pose-20221027T035555Z-001/Tree-Pose/images69.jpg\n"
          ]
        },
        {
          "output_type": "stream",
          "name": "stderr",
          "text": [
            "Processing Tree-Pose: 100%|██████████| 334/334 [00:44<00:00,  7.47it/s]\n",
            "Processing Child-Pose-20221027T035529Z-001: 0it [00:00, ?it/s]\n",
            "Processing Child-Pose:  11%|█▏        | 30/261 [00:06<00:35,  6.55it/s]"
          ]
        },
        {
          "output_type": "stream",
          "name": "stdout",
          "text": [
            "No pose detected in: /content/yoga_dataset/Child-Pose-20221027T035529Z-001/Child-Pose/es-view-virtual-woman-yoga-child-pose-angles-view-white-background-167799547.jpg\n",
            "No pose detected in: /content/yoga_dataset/Child-Pose-20221027T035529Z-001/Child-Pose/images144.jpg\n"
          ]
        },
        {
          "output_type": "stream",
          "name": "stderr",
          "text": [
            "Processing Child-Pose:  14%|█▍        | 37/261 [00:07<00:28,  7.86it/s]"
          ]
        },
        {
          "output_type": "stream",
          "name": "stdout",
          "text": [
            "No pose detected in: /content/yoga_dataset/Child-Pose-20221027T035529Z-001/Child-Pose/images38.jpg\n"
          ]
        },
        {
          "output_type": "stream",
          "name": "stderr",
          "text": [
            "Processing Child-Pose:  17%|█▋        | 45/261 [00:08<00:24,  8.76it/s]"
          ]
        },
        {
          "output_type": "stream",
          "name": "stdout",
          "text": [
            "No pose detected in: /content/yoga_dataset/Child-Pose-20221027T035529Z-001/Child-Pose/images24.jpg\n",
            "No pose detected in: /content/yoga_dataset/Child-Pose-20221027T035529Z-001/Child-Pose/images32.jpg\n",
            "No pose detected in: /content/yoga_dataset/Child-Pose-20221027T035529Z-001/Child-Pose/images130.jpg\n"
          ]
        },
        {
          "output_type": "stream",
          "name": "stderr",
          "text": [
            "Processing Child-Pose:  33%|███▎      | 86/261 [00:13<00:27,  6.34it/s]"
          ]
        },
        {
          "output_type": "stream",
          "name": "stdout",
          "text": [
            "No pose detected in: /content/yoga_dataset/Child-Pose-20221027T035529Z-001/Child-Pose/16a78f6e243fbf47960b3e5a01bcdc1c.jpg\n"
          ]
        },
        {
          "output_type": "stream",
          "name": "stderr",
          "text": [
            "Processing Child-Pose:  36%|███▌      | 93/261 [00:14<00:26,  6.31it/s]"
          ]
        },
        {
          "output_type": "stream",
          "name": "stdout",
          "text": [
            "No pose detected in: /content/yoga_dataset/Child-Pose-20221027T035529Z-001/Child-Pose/images103.jpg\n",
            "No pose detected in: /content/yoga_dataset/Child-Pose-20221027T035529Z-001/Child-Pose/dae688d2b09b2c7185458e370ccc26f9.jpg\n"
          ]
        },
        {
          "output_type": "stream",
          "name": "stderr",
          "text": [
            "Processing Child-Pose:  40%|███▉      | 104/261 [00:17<00:54,  2.89it/s]"
          ]
        },
        {
          "output_type": "stream",
          "name": "stdout",
          "text": [
            "No pose detected in: /content/yoga_dataset/Child-Pose-20221027T035529Z-001/Child-Pose/guide-to-childs-pose.jpeg\n"
          ]
        },
        {
          "output_type": "stream",
          "name": "stderr",
          "text": [
            "Processing Child-Pose:  43%|████▎     | 112/261 [00:19<00:24,  6.00it/s]"
          ]
        },
        {
          "output_type": "stream",
          "name": "stdout",
          "text": [
            "No pose detected in: /content/yoga_dataset/Child-Pose-20221027T035529Z-001/Child-Pose/images46.jpg\n"
          ]
        },
        {
          "output_type": "stream",
          "name": "stderr",
          "text": [
            "\rProcessing Child-Pose:  43%|████▎     | 113/261 [00:19<00:25,  5.92it/s]"
          ]
        },
        {
          "output_type": "stream",
          "name": "stdout",
          "text": [
            "No pose detected in: /content/yoga_dataset/Child-Pose-20221027T035529Z-001/Child-Pose/image26.jpeg\n"
          ]
        },
        {
          "output_type": "stream",
          "name": "stderr",
          "text": [
            "Processing Child-Pose:  46%|████▌     | 120/261 [00:20<00:21,  6.66it/s]"
          ]
        },
        {
          "output_type": "stream",
          "name": "stdout",
          "text": [
            "No pose detected in: /content/yoga_dataset/Child-Pose-20221027T035529Z-001/Child-Pose/images13.jpg\n"
          ]
        },
        {
          "output_type": "stream",
          "name": "stderr",
          "text": [
            "\rProcessing Child-Pose:  47%|████▋     | 122/261 [00:20<00:19,  7.15it/s]"
          ]
        },
        {
          "output_type": "stream",
          "name": "stdout",
          "text": [
            "No pose detected in: /content/yoga_dataset/Child-Pose-20221027T035529Z-001/Child-Pose/images96.jpg\n"
          ]
        },
        {
          "output_type": "stream",
          "name": "stderr",
          "text": [
            "Processing Child-Pose:  55%|█████▌    | 144/261 [00:24<00:20,  5.85it/s]"
          ]
        },
        {
          "output_type": "stream",
          "name": "stdout",
          "text": [
            "No pose detected in: /content/yoga_dataset/Child-Pose-20221027T035529Z-001/Child-Pose/images100.jpg\n",
            "No pose detected in: /content/yoga_dataset/Child-Pose-20221027T035529Z-001/Child-Pose/images149.jpg\n"
          ]
        },
        {
          "output_type": "stream",
          "name": "stderr",
          "text": [
            "Processing Child-Pose:  59%|█████▊    | 153/261 [00:26<00:20,  5.16it/s]"
          ]
        },
        {
          "output_type": "stream",
          "name": "stdout",
          "text": [
            "No pose detected in: /content/yoga_dataset/Child-Pose-20221027T035529Z-001/Child-Pose/images129.jpg\n"
          ]
        },
        {
          "output_type": "stream",
          "name": "stderr",
          "text": [
            "Processing Child-Pose:  64%|██████▍   | 168/261 [00:28<00:08, 10.39it/s]"
          ]
        },
        {
          "output_type": "stream",
          "name": "stdout",
          "text": [
            "No pose detected in: /content/yoga_dataset/Child-Pose-20221027T035529Z-001/Child-Pose/images156.jpg\n",
            "No pose detected in: /content/yoga_dataset/Child-Pose-20221027T035529Z-001/Child-Pose/images57.jpg\n"
          ]
        },
        {
          "output_type": "stream",
          "name": "stderr",
          "text": [
            "Processing Child-Pose:  66%|██████▌   | 172/261 [00:28<00:10,  8.31it/s]"
          ]
        },
        {
          "output_type": "stream",
          "name": "stdout",
          "text": [
            "No pose detected in: /content/yoga_dataset/Child-Pose-20221027T035529Z-001/Child-Pose/images153.jpg\n"
          ]
        },
        {
          "output_type": "stream",
          "name": "stderr",
          "text": [
            "Processing Child-Pose:  76%|███████▌  | 199/261 [00:32<00:07,  8.85it/s]"
          ]
        },
        {
          "output_type": "stream",
          "name": "stdout",
          "text": [
            "No pose detected in: /content/yoga_dataset/Child-Pose-20221027T035529Z-001/Child-Pose/images142.jpg\n"
          ]
        },
        {
          "output_type": "stream",
          "name": "stderr",
          "text": [
            "Processing Child-Pose:  77%|███████▋  | 201/261 [00:32<00:06,  8.87it/s]"
          ]
        },
        {
          "output_type": "stream",
          "name": "stdout",
          "text": [
            "No pose detected in: /content/yoga_dataset/Child-Pose-20221027T035529Z-001/Child-Pose/images43.jpg\n"
          ]
        },
        {
          "output_type": "stream",
          "name": "stderr",
          "text": [
            "Processing Child-Pose:  85%|████████▌ | 223/261 [00:35<00:04,  8.91it/s]"
          ]
        },
        {
          "output_type": "stream",
          "name": "stdout",
          "text": [
            "No pose detected in: /content/yoga_dataset/Child-Pose-20221027T035529Z-001/Child-Pose/AOh-ky1xuGSuo1cFBPOmcqkrelO7CtXbSsHfwZPiu8CQbAs64-c-mo.jpg\n"
          ]
        },
        {
          "output_type": "stream",
          "name": "stderr",
          "text": [
            "Processing Child-Pose:  89%|████████▊ | 231/261 [00:36<00:04,  6.52it/s]"
          ]
        },
        {
          "output_type": "stream",
          "name": "stdout",
          "text": [
            "No pose detected in: /content/yoga_dataset/Child-Pose-20221027T035529Z-001/Child-Pose/013011-Child-Pose---Yoga-Exercise-Activity-Relaxation-KS12.png\n"
          ]
        },
        {
          "output_type": "stream",
          "name": "stderr",
          "text": [
            "Processing Child-Pose:  95%|█████████▌| 248/261 [00:40<00:01, 10.20it/s]"
          ]
        },
        {
          "output_type": "stream",
          "name": "stdout",
          "text": [
            "No pose detected in: /content/yoga_dataset/Child-Pose-20221027T035529Z-001/Child-Pose/images21.jpg\n",
            "No pose detected in: /content/yoga_dataset/Child-Pose-20221027T035529Z-001/Child-Pose/images40.jpg\n"
          ]
        },
        {
          "output_type": "stream",
          "name": "stderr",
          "text": [
            "\rProcessing Child-Pose:  96%|█████████▌| 250/261 [00:40<00:00, 11.77it/s]"
          ]
        },
        {
          "output_type": "stream",
          "name": "stdout",
          "text": [
            "No pose detected in: /content/yoga_dataset/Child-Pose-20221027T035529Z-001/Child-Pose/images161.jpg\n"
          ]
        },
        {
          "output_type": "stream",
          "name": "stderr",
          "text": [
            "Processing Child-Pose: 100%|██████████| 261/261 [00:41<00:00,  6.27it/s]\n",
            "Processing Bridge-Pose-20221027T035527Z-001: 0it [00:00, ?it/s]\n",
            "Processing Bridge-Pose:   2%|▏         | 6/268 [00:01<00:47,  5.51it/s]"
          ]
        },
        {
          "output_type": "stream",
          "name": "stdout",
          "text": [
            "No pose detected in: /content/yoga_dataset/Bridge-Pose-20221027T035527Z-001/Bridge-Pose/women-silhouette-bridge-yoga-pose-setu-bandha-vector-14132938.jpg\n"
          ]
        },
        {
          "output_type": "stream",
          "name": "stderr",
          "text": [
            "Processing Bridge-Pose:   6%|▋         | 17/268 [00:02<00:24, 10.09it/s]"
          ]
        },
        {
          "output_type": "stream",
          "name": "stdout",
          "text": [
            "No pose detected in: /content/yoga_dataset/Bridge-Pose-20221027T035527Z-001/Bridge-Pose/images111.jpg\n"
          ]
        },
        {
          "output_type": "stream",
          "name": "stderr",
          "text": [
            "Processing Bridge-Pose:   8%|▊         | 22/268 [00:03<00:27,  8.89it/s]"
          ]
        },
        {
          "output_type": "stream",
          "name": "stdout",
          "text": [
            "No pose detected in: /content/yoga_dataset/Bridge-Pose-20221027T035527Z-001/Bridge-Pose/images11.jpg\n"
          ]
        },
        {
          "output_type": "stream",
          "name": "stderr",
          "text": [
            "Processing Bridge-Pose:  17%|█▋        | 45/268 [00:05<00:21, 10.28it/s]"
          ]
        },
        {
          "output_type": "stream",
          "name": "stdout",
          "text": [
            "No pose detected in: /content/yoga_dataset/Bridge-Pose-20221027T035527Z-001/Bridge-Pose/bridge-pose-yoga-workout-outline-vector-clipart_csp89556108.jpg\n"
          ]
        },
        {
          "output_type": "stream",
          "name": "stderr",
          "text": [
            "\rProcessing Bridge-Pose:  18%|█▊        | 47/268 [00:05<00:18, 11.67it/s]"
          ]
        },
        {
          "output_type": "stream",
          "name": "stdout",
          "text": [
            "No pose detected in: /content/yoga_dataset/Bridge-Pose-20221027T035527Z-001/Bridge-Pose/images130.jpg\n"
          ]
        },
        {
          "output_type": "stream",
          "name": "stderr",
          "text": [
            "Processing Bridge-Pose:  21%|██        | 55/268 [00:06<00:19, 10.98it/s]"
          ]
        },
        {
          "output_type": "stream",
          "name": "stdout",
          "text": [
            "No pose detected in: /content/yoga_dataset/Bridge-Pose-20221027T035527Z-001/Bridge-Pose/image8.jpeg\n"
          ]
        },
        {
          "output_type": "stream",
          "name": "stderr",
          "text": [
            "Processing Bridge-Pose:  34%|███▍      | 91/268 [00:10<00:16, 10.94it/s]"
          ]
        },
        {
          "output_type": "stream",
          "name": "stdout",
          "text": [
            "No pose detected in: /content/yoga_dataset/Bridge-Pose-20221027T035527Z-001/Bridge-Pose/images103.jpg\n"
          ]
        },
        {
          "output_type": "stream",
          "name": "stderr",
          "text": [
            "Processing Bridge-Pose:  41%|████▏     | 111/268 [00:13<00:22,  7.05it/s]"
          ]
        },
        {
          "output_type": "stream",
          "name": "stdout",
          "text": [
            "No pose detected in: /content/yoga_dataset/Bridge-Pose-20221027T035527Z-001/Bridge-Pose/out-outline-healthy-lifestyle-vector-illustration-white-background-209724331.jpg\n"
          ]
        },
        {
          "output_type": "stream",
          "name": "stderr",
          "text": [
            "Processing Bridge-Pose:  44%|████▍     | 119/268 [00:14<00:20,  7.41it/s]"
          ]
        },
        {
          "output_type": "stream",
          "name": "stdout",
          "text": [
            "No pose detected in: /content/yoga_dataset/Bridge-Pose-20221027T035527Z-001/Bridge-Pose/images96.jpg\n"
          ]
        },
        {
          "output_type": "stream",
          "name": "stderr",
          "text": [
            "Processing Bridge-Pose:  48%|████▊     | 129/268 [00:15<00:13, 10.50it/s]"
          ]
        },
        {
          "output_type": "stream",
          "name": "stdout",
          "text": [
            "No pose detected in: /content/yoga_dataset/Bridge-Pose-20221027T035527Z-001/Bridge-Pose/images110.jpg\n"
          ]
        },
        {
          "output_type": "stream",
          "name": "stderr",
          "text": [
            "Processing Bridge-Pose:  50%|████▉     | 133/268 [00:16<00:11, 11.44it/s]"
          ]
        },
        {
          "output_type": "stream",
          "name": "stdout",
          "text": [
            "No pose detected in: /content/yoga_dataset/Bridge-Pose-20221027T035527Z-001/Bridge-Pose/images22.jpg\n"
          ]
        },
        {
          "output_type": "stream",
          "name": "stderr",
          "text": [
            "Processing Bridge-Pose:  56%|█████▌    | 150/268 [00:18<00:12,  9.41it/s]"
          ]
        },
        {
          "output_type": "stream",
          "name": "stdout",
          "text": [
            "No pose detected in: /content/yoga_dataset/Bridge-Pose-20221027T035527Z-001/Bridge-Pose/images79.jpg\n"
          ]
        },
        {
          "output_type": "stream",
          "name": "stderr",
          "text": [
            "Processing Bridge-Pose:  62%|██████▏   | 167/268 [00:19<00:07, 13.00it/s]"
          ]
        },
        {
          "output_type": "stream",
          "name": "stdout",
          "text": [
            "No pose detected in: /content/yoga_dataset/Bridge-Pose-20221027T035527Z-001/Bridge-Pose/setubandha_sarvangasana_yoga.png\n",
            "No pose detected in: /content/yoga_dataset/Bridge-Pose-20221027T035527Z-001/Bridge-Pose/images55.jpg\n"
          ]
        },
        {
          "output_type": "stream",
          "name": "stderr",
          "text": [
            "Processing Bridge-Pose:  78%|███████▊  | 210/268 [00:24<00:07,  8.02it/s]"
          ]
        },
        {
          "output_type": "stream",
          "name": "stdout",
          "text": [
            "No pose detected in: /content/yoga_dataset/Bridge-Pose-20221027T035527Z-001/Bridge-Pose/images86.jpg\n"
          ]
        },
        {
          "output_type": "stream",
          "name": "stderr",
          "text": [
            "Processing Bridge-Pose:  81%|████████  | 217/268 [00:25<00:07,  6.81it/s]"
          ]
        },
        {
          "output_type": "stream",
          "name": "stdout",
          "text": [
            "No pose detected in: /content/yoga_dataset/Bridge-Pose-20221027T035527Z-001/Bridge-Pose/bridge-pose-setu-bandha-sarvangasana.jpg\n"
          ]
        },
        {
          "output_type": "stream",
          "name": "stderr",
          "text": [
            "Processing Bridge-Pose:  85%|████████▍ | 227/268 [00:27<00:04,  9.27it/s]"
          ]
        },
        {
          "output_type": "stream",
          "name": "stdout",
          "text": [
            "No pose detected in: /content/yoga_dataset/Bridge-Pose-20221027T035527Z-001/Bridge-Pose/AOh-ky1xuGSuo1cFBPOmcqkrelO7CtXbSsHfwZPiu8CQbAs64-c-mo.jpg\n",
            "No pose detected in: /content/yoga_dataset/Bridge-Pose-20221027T035527Z-001/Bridge-Pose/eka_pada_setubandha_sarvangasana_yoga.png\n"
          ]
        },
        {
          "output_type": "stream",
          "name": "stderr",
          "text": [
            "Processing Bridge-Pose:  87%|████████▋ | 233/268 [00:27<00:03, 11.05it/s]"
          ]
        },
        {
          "output_type": "stream",
          "name": "stdout",
          "text": [
            "No pose detected in: /content/yoga_dataset/Bridge-Pose-20221027T035527Z-001/Bridge-Pose/bridge-pose-yoga-workout-setu-bandha-vector-clipart_csp92698204.jpg\n"
          ]
        },
        {
          "output_type": "stream",
          "name": "stderr",
          "text": [
            "Processing Bridge-Pose:  88%|████████▊ | 237/268 [00:28<00:02, 10.97it/s]"
          ]
        },
        {
          "output_type": "stream",
          "name": "stdout",
          "text": [
            "No pose detected in: /content/yoga_dataset/Bridge-Pose-20221027T035527Z-001/Bridge-Pose/ular-woman-yoga-position-bridge-pose-exercise-muscular-system-body-140987579.jpg\n"
          ]
        },
        {
          "output_type": "stream",
          "name": "stderr",
          "text": [
            "Processing Bridge-Pose:  93%|█████████▎| 249/268 [00:29<00:01, 10.81it/s]"
          ]
        },
        {
          "output_type": "stream",
          "name": "stdout",
          "text": [
            "No pose detected in: /content/yoga_dataset/Bridge-Pose-20221027T035527Z-001/Bridge-Pose/images138.jpg\n"
          ]
        },
        {
          "output_type": "stream",
          "name": "stderr",
          "text": [
            "Processing Bridge-Pose:  97%|█████████▋| 261/268 [00:30<00:00, 10.89it/s]"
          ]
        },
        {
          "output_type": "stream",
          "name": "stdout",
          "text": [
            "No pose detected in: /content/yoga_dataset/Bridge-Pose-20221027T035527Z-001/Bridge-Pose/images85.jpg\n"
          ]
        },
        {
          "output_type": "stream",
          "name": "stderr",
          "text": [
            "Processing Bridge-Pose:  99%|█████████▉| 266/268 [00:31<00:00,  8.37it/s]"
          ]
        },
        {
          "output_type": "stream",
          "name": "stdout",
          "text": [
            "No pose detected in: /content/yoga_dataset/Bridge-Pose-20221027T035527Z-001/Bridge-Pose/images69.jpg\n"
          ]
        },
        {
          "output_type": "stream",
          "name": "stderr",
          "text": [
            "Processing Bridge-Pose: 100%|██████████| 268/268 [00:31<00:00,  8.44it/s]\n"
          ]
        },
        {
          "output_type": "stream",
          "name": "stdout",
          "text": [
            "No pose detected in: /content/yoga_dataset/Bridge-Pose-20221027T035527Z-001/Bridge-Pose/images5.jpg\n"
          ]
        },
        {
          "output_type": "stream",
          "name": "stderr",
          "text": [
            "Processing Cobra-Pose-20221027T035533Z-001: 0it [00:00, ?it/s]\n",
            "Processing Cobra-Pose:   1%|          | 2/197 [00:00<00:13, 14.75it/s]"
          ]
        },
        {
          "output_type": "stream",
          "name": "stdout",
          "text": [
            "No pose detected in: /content/yoga_dataset/Cobra-Pose-20221027T035533Z-001/Cobra-Pose/images52.jpg\n"
          ]
        },
        {
          "output_type": "stream",
          "name": "stderr",
          "text": [
            "Processing Cobra-Pose:   6%|▌         | 11/197 [00:01<00:17, 10.56it/s]"
          ]
        },
        {
          "output_type": "stream",
          "name": "stdout",
          "text": [
            "No pose detected in: /content/yoga_dataset/Cobra-Pose-20221027T035533Z-001/Cobra-Pose/stock-vector-cobra-pose-yoga-pose-and-benefits-cartoon-vector-illustration-1955464498.jpg\n"
          ]
        },
        {
          "output_type": "stream",
          "name": "stderr",
          "text": [
            "Processing Cobra-Pose:  14%|█▎        | 27/197 [00:02<00:16, 10.55it/s]"
          ]
        },
        {
          "output_type": "stream",
          "name": "stdout",
          "text": [
            "No pose detected in: /content/yoga_dataset/Cobra-Pose-20221027T035533Z-001/Cobra-Pose/images53.jpg\n"
          ]
        },
        {
          "output_type": "stream",
          "name": "stderr",
          "text": [
            "Processing Cobra-Pose:  20%|█▉        | 39/197 [00:04<00:14, 10.91it/s]"
          ]
        },
        {
          "output_type": "stream",
          "name": "stdout",
          "text": [
            "No pose detected in: /content/yoga_dataset/Cobra-Pose-20221027T035533Z-001/Cobra-Pose/image8.jpeg\n"
          ]
        },
        {
          "output_type": "stream",
          "name": "stderr",
          "text": [
            "Processing Cobra-Pose:  40%|███▉      | 78/197 [00:09<00:11, 10.32it/s]"
          ]
        },
        {
          "output_type": "stream",
          "name": "stdout",
          "text": [
            "No pose detected in: /content/yoga_dataset/Cobra-Pose-20221027T035533Z-001/Cobra-Pose/images71.jpg\n"
          ]
        },
        {
          "output_type": "stream",
          "name": "stderr",
          "text": [
            "Processing Cobra-Pose:  52%|█████▏    | 102/197 [00:12<00:11,  8.13it/s]"
          ]
        },
        {
          "output_type": "stream",
          "name": "stdout",
          "text": [
            "No pose detected in: /content/yoga_dataset/Cobra-Pose-20221027T035533Z-001/Cobra-Pose/cobra_pose_flow__bhujangasana_vinyasa_yoga.png\n"
          ]
        },
        {
          "output_type": "stream",
          "name": "stderr",
          "text": [
            "Processing Cobra-Pose:  67%|██████▋   | 132/197 [00:16<00:07,  8.75it/s]"
          ]
        },
        {
          "output_type": "stream",
          "name": "stdout",
          "text": [
            "No pose detected in: /content/yoga_dataset/Cobra-Pose-20221027T035533Z-001/Cobra-Pose/images39.jpg\n"
          ]
        },
        {
          "output_type": "stream",
          "name": "stderr",
          "text": [
            "Processing Cobra-Pose:  80%|████████  | 158/197 [00:20<00:07,  5.46it/s]"
          ]
        },
        {
          "output_type": "stream",
          "name": "stdout",
          "text": [
            "No pose detected in: /content/yoga_dataset/Cobra-Pose-20221027T035533Z-001/Cobra-Pose/images43.jpg\n"
          ]
        },
        {
          "output_type": "stream",
          "name": "stderr",
          "text": [
            "Processing Cobra-Pose:  88%|████████▊ | 173/197 [00:22<00:02, 10.91it/s]"
          ]
        },
        {
          "output_type": "stream",
          "name": "stdout",
          "text": [
            "No pose detected in: /content/yoga_dataset/Cobra-Pose-20221027T035533Z-001/Cobra-Pose/AOh-ky1xuGSuo1cFBPOmcqkrelO7CtXbSsHfwZPiu8CQbAs64-c-mo.jpg\n"
          ]
        },
        {
          "output_type": "stream",
          "name": "stderr",
          "text": [
            "Processing Cobra-Pose:  90%|████████▉ | 177/197 [00:23<00:02,  9.47it/s]"
          ]
        },
        {
          "output_type": "stream",
          "name": "stdout",
          "text": [
            "No pose detected in: /content/yoga_dataset/Cobra-Pose-20221027T035533Z-001/Cobra-Pose/image6.jpeg\n"
          ]
        },
        {
          "output_type": "stream",
          "name": "stderr",
          "text": [
            "Processing Cobra-Pose:  94%|█████████▍| 185/197 [00:23<00:01, 10.60it/s]"
          ]
        },
        {
          "output_type": "stream",
          "name": "stdout",
          "text": [
            "No pose detected in: /content/yoga_dataset/Cobra-Pose-20221027T035533Z-001/Cobra-Pose/images42.jpg\n"
          ]
        },
        {
          "output_type": "stream",
          "name": "stderr",
          "text": [
            "Processing Cobra-Pose: 100%|██████████| 197/197 [00:25<00:00,  7.80it/s]\n",
            "Processing Standing-Mountain-Pose-20221027T035550Z-001: 0it [00:00, ?it/s]\n",
            "Processing Standing-Mountain-Pose:   4%|▎         | 7/198 [00:00<00:19, 10.05it/s]"
          ]
        },
        {
          "output_type": "stream",
          "name": "stdout",
          "text": [
            "No pose detected in: /content/yoga_dataset/Standing-Mountain-Pose-20221027T035550Z-001/Standing-Mountain-Pose/image2.jpeg\n"
          ]
        },
        {
          "output_type": "stream",
          "name": "stderr",
          "text": [
            "Processing Standing-Mountain-Pose:   6%|▌         | 12/198 [00:01<00:17, 10.82it/s]"
          ]
        },
        {
          "output_type": "stream",
          "name": "stdout",
          "text": [
            "No pose detected in: /content/yoga_dataset/Standing-Mountain-Pose-20221027T035550Z-001/Standing-Mountain-Pose/yogaPoseKids-mountain.png\n"
          ]
        },
        {
          "output_type": "stream",
          "name": "stderr",
          "text": [
            "Processing Standing-Mountain-Pose:  11%|█         | 22/198 [00:02<00:15, 11.25it/s]"
          ]
        },
        {
          "output_type": "stream",
          "name": "stdout",
          "text": [
            "No pose detected in: /content/yoga_dataset/Standing-Mountain-Pose-20221027T035550Z-001/Standing-Mountain-Pose/images33.jpg\n"
          ]
        },
        {
          "output_type": "stream",
          "name": "stderr",
          "text": [
            "Processing Standing-Mountain-Pose:  15%|█▍        | 29/198 [00:02<00:15, 10.62it/s]"
          ]
        },
        {
          "output_type": "stream",
          "name": "stdout",
          "text": [
            "No pose detected in: /content/yoga_dataset/Standing-Mountain-Pose-20221027T035550Z-001/Standing-Mountain-Pose/images32.jpg\n"
          ]
        },
        {
          "output_type": "stream",
          "name": "stderr",
          "text": [
            "\rProcessing Standing-Mountain-Pose:  16%|█▌        | 31/198 [00:03<00:14, 11.71it/s]"
          ]
        },
        {
          "output_type": "stream",
          "name": "stdout",
          "text": [
            "No pose detected in: /content/yoga_dataset/Standing-Mountain-Pose-20221027T035550Z-001/Standing-Mountain-Pose/Tadasana4.png\n"
          ]
        },
        {
          "output_type": "stream",
          "name": "stderr",
          "text": [
            "Processing Standing-Mountain-Pose:  21%|██        | 42/198 [00:04<00:17,  8.72it/s]"
          ]
        },
        {
          "output_type": "stream",
          "name": "stdout",
          "text": [
            "No pose detected in: /content/yoga_dataset/Standing-Mountain-Pose-20221027T035550Z-001/Standing-Mountain-Pose/image11.jpeg\n"
          ]
        },
        {
          "output_type": "stream",
          "name": "stderr",
          "text": [
            "Processing Standing-Mountain-Pose:  26%|██▋       | 52/198 [00:05<00:11, 12.64it/s]"
          ]
        },
        {
          "output_type": "stream",
          "name": "stdout",
          "text": [
            "No pose detected in: /content/yoga_dataset/Standing-Mountain-Pose-20221027T035550Z-001/Standing-Mountain-Pose/Variations-of-Mountain-Pose-FITZABOUT-1024x1024.jpg\n",
            "No pose detected in: /content/yoga_dataset/Standing-Mountain-Pose-20221027T035550Z-001/Standing-Mountain-Pose/blog-mountain_600x.jpg\n"
          ]
        },
        {
          "output_type": "stream",
          "name": "stderr",
          "text": [
            "Processing Standing-Mountain-Pose:  36%|███▌      | 71/198 [00:08<00:22,  5.53it/s]"
          ]
        },
        {
          "output_type": "stream",
          "name": "stdout",
          "text": [
            "No pose detected in: /content/yoga_dataset/Standing-Mountain-Pose-20221027T035550Z-001/Standing-Mountain-Pose/mountain-pose-benefits-2.png\n"
          ]
        },
        {
          "output_type": "stream",
          "name": "stderr",
          "text": [
            "Processing Standing-Mountain-Pose:  37%|███▋      | 74/198 [00:08<00:17,  7.24it/s]"
          ]
        },
        {
          "output_type": "stream",
          "name": "stdout",
          "text": [
            "No pose detected in: /content/yoga_dataset/Standing-Mountain-Pose-20221027T035550Z-001/Standing-Mountain-Pose/extended_mountain_pose_with_backbend__utthita_tadasana_with_backbend_yoga.png\n"
          ]
        },
        {
          "output_type": "stream",
          "name": "stderr",
          "text": [
            "Processing Standing-Mountain-Pose:  55%|█████▌    | 109/198 [00:12<00:08, 11.04it/s]"
          ]
        },
        {
          "output_type": "stream",
          "name": "stdout",
          "text": [
            "No pose detected in: /content/yoga_dataset/Standing-Mountain-Pose-20221027T035550Z-001/Standing-Mountain-Pose/792b80fd0c884040bbcfaf14656788f7.png\n"
          ]
        },
        {
          "output_type": "stream",
          "name": "stderr",
          "text": [
            "Processing Standing-Mountain-Pose:  59%|█████▊    | 116/198 [00:13<00:07, 10.61it/s]"
          ]
        },
        {
          "output_type": "stream",
          "name": "stdout",
          "text": [
            "No pose detected in: /content/yoga_dataset/Standing-Mountain-Pose-20221027T035550Z-001/Standing-Mountain-Pose/mountain-pose-tadasana2.jpg\n"
          ]
        },
        {
          "output_type": "stream",
          "name": "stderr",
          "text": [
            "Processing Standing-Mountain-Pose:  65%|██████▌   | 129/198 [00:14<00:06, 10.89it/s]"
          ]
        },
        {
          "output_type": "stream",
          "name": "stdout",
          "text": [
            "No pose detected in: /content/yoga_dataset/Standing-Mountain-Pose-20221027T035550Z-001/Standing-Mountain-Pose/images64.jpg\n"
          ]
        },
        {
          "output_type": "stream",
          "name": "stderr",
          "text": [
            "Processing Standing-Mountain-Pose:  82%|████████▏ | 163/198 [00:19<00:05,  5.84it/s]"
          ]
        },
        {
          "output_type": "stream",
          "name": "stdout",
          "text": [
            "No pose detected in: /content/yoga_dataset/Standing-Mountain-Pose-20221027T035550Z-001/Standing-Mountain-Pose/image7.jpeg\n"
          ]
        },
        {
          "output_type": "stream",
          "name": "stderr",
          "text": [
            "Processing Standing-Mountain-Pose:  85%|████████▌ | 169/198 [00:20<00:04,  5.95it/s]"
          ]
        },
        {
          "output_type": "stream",
          "name": "stdout",
          "text": [
            "No pose detected in: /content/yoga_dataset/Standing-Mountain-Pose-20221027T035550Z-001/Standing-Mountain-Pose/AOh-ky1xuGSuo1cFBPOmcqkrelO7CtXbSsHfwZPiu8CQbAs64-c-mo.jpg\n"
          ]
        },
        {
          "output_type": "stream",
          "name": "stderr",
          "text": [
            "Processing Standing-Mountain-Pose:  89%|████████▉ | 176/198 [00:21<00:02,  7.98it/s]"
          ]
        },
        {
          "output_type": "stream",
          "name": "stdout",
          "text": [
            "No pose detected in: /content/yoga_dataset/Standing-Mountain-Pose-20221027T035550Z-001/Standing-Mountain-Pose/image6.jpeg\n"
          ]
        },
        {
          "output_type": "stream",
          "name": "stderr",
          "text": [
            "Processing Standing-Mountain-Pose:  98%|█████████▊| 195/198 [00:23<00:00,  8.76it/s]"
          ]
        },
        {
          "output_type": "stream",
          "name": "stdout",
          "text": [
            "No pose detected in: /content/yoga_dataset/Standing-Mountain-Pose-20221027T035550Z-001/Standing-Mountain-Pose/image12.jpeg\n"
          ]
        },
        {
          "output_type": "stream",
          "name": "stderr",
          "text": [
            "Processing Standing-Mountain-Pose: 100%|██████████| 198/198 [00:24<00:00,  8.20it/s]\n",
            "Processing Warrior-Pose-20221027T035600Z-001: 0it [00:00, ?it/s]\n",
            "Processing Warrior-Pose:   2%|▏         | 4/209 [00:00<00:16, 12.32it/s]"
          ]
        },
        {
          "output_type": "stream",
          "name": "stdout",
          "text": [
            "No pose detected in: /content/yoga_dataset/Warrior-Pose-20221027T035600Z-001/Warrior-Pose/images84.jpg\n"
          ]
        },
        {
          "output_type": "stream",
          "name": "stderr",
          "text": [
            "Processing Warrior-Pose:  12%|█▏        | 26/209 [00:02<00:16, 10.94it/s]"
          ]
        },
        {
          "output_type": "stream",
          "name": "stdout",
          "text": [
            "No pose detected in: /content/yoga_dataset/Warrior-Pose-20221027T035600Z-001/Warrior-Pose/warrior-two-pose-yoga-workout-260nw-2004773738.jpg\n"
          ]
        },
        {
          "output_type": "stream",
          "name": "stderr",
          "text": [
            "Processing Warrior-Pose:  22%|██▏       | 46/209 [00:04<00:15, 10.76it/s]"
          ]
        },
        {
          "output_type": "stream",
          "name": "stdout",
          "text": [
            "No pose detected in: /content/yoga_dataset/Warrior-Pose-20221027T035600Z-001/Warrior-Pose/warrior-II-pose-virabhadrasana-II-spotebi.jpg\n"
          ]
        },
        {
          "output_type": "stream",
          "name": "stderr",
          "text": [
            "Processing Warrior-Pose:  44%|████▍     | 92/209 [00:11<00:10, 11.15it/s]"
          ]
        },
        {
          "output_type": "stream",
          "name": "stdout",
          "text": [
            "No pose detected in: /content/yoga_dataset/Warrior-Pose-20221027T035600Z-001/Warrior-Pose/81d1e8fc4c184e1cb7469b7157c17f1a.png\n"
          ]
        },
        {
          "output_type": "stream",
          "name": "stderr",
          "text": [
            "Processing Warrior-Pose:  63%|██████▎   | 132/209 [00:15<00:07, 10.74it/s]"
          ]
        },
        {
          "output_type": "stream",
          "name": "stdout",
          "text": [
            "No pose detected in: /content/yoga_dataset/Warrior-Pose-20221027T035600Z-001/Warrior-Pose/images55.jpg\n"
          ]
        },
        {
          "output_type": "stream",
          "name": "stderr",
          "text": [
            "Processing Warrior-Pose:  74%|███████▍  | 155/209 [00:18<00:04, 10.99it/s]"
          ]
        },
        {
          "output_type": "stream",
          "name": "stdout",
          "text": [
            "No pose detected in: /content/yoga_dataset/Warrior-Pose-20221027T035600Z-001/Warrior-Pose/images58.jpg\n"
          ]
        },
        {
          "output_type": "stream",
          "name": "stderr",
          "text": [
            "Processing Warrior-Pose:  84%|████████▎ | 175/209 [00:21<00:05,  6.63it/s]"
          ]
        },
        {
          "output_type": "stream",
          "name": "stdout",
          "text": [
            "No pose detected in: /content/yoga_dataset/Warrior-Pose-20221027T035600Z-001/Warrior-Pose/images48.jpg\n"
          ]
        },
        {
          "output_type": "stream",
          "name": "stderr",
          "text": [
            "Processing Warrior-Pose:  86%|████████▌ | 179/209 [00:22<00:07,  4.24it/s]"
          ]
        },
        {
          "output_type": "stream",
          "name": "stdout",
          "text": [
            "No pose detected in: /content/yoga_dataset/Warrior-Pose-20221027T035600Z-001/Warrior-Pose/AOh-ky1xuGSuo1cFBPOmcqkrelO7CtXbSsHfwZPiu8CQbAs64-c-mo.jpg\n"
          ]
        },
        {
          "output_type": "stream",
          "name": "stderr",
          "text": [
            "Processing Warrior-Pose:  88%|████████▊ | 184/209 [00:22<00:03,  8.19it/s]"
          ]
        },
        {
          "output_type": "stream",
          "name": "stdout",
          "text": [
            "No pose detected in: /content/yoga_dataset/Warrior-Pose-20221027T035600Z-001/Warrior-Pose/images68.jpg\n"
          ]
        },
        {
          "output_type": "stream",
          "name": "stderr",
          "text": [
            "Processing Warrior-Pose: 100%|█████████▉| 208/209 [00:25<00:00, 10.76it/s]"
          ]
        },
        {
          "output_type": "stream",
          "name": "stdout",
          "text": [
            "No pose detected in: /content/yoga_dataset/Warrior-Pose-20221027T035600Z-001/Warrior-Pose/images5.jpg\n"
          ]
        },
        {
          "output_type": "stream",
          "name": "stderr",
          "text": [
            "Processing Warrior-Pose: 100%|██████████| 209/209 [00:25<00:00,  8.12it/s]\n",
            "Processing Triangle-Pose-20221027T035558Z-001: 0it [00:00, ?it/s]\n",
            "Processing Triangle-Pose:  24%|██▍       | 66/274 [00:07<00:29,  6.99it/s]"
          ]
        },
        {
          "output_type": "stream",
          "name": "stdout",
          "text": [
            "No pose detected in: /content/yoga_dataset/Triangle-Pose-20221027T035558Z-001/Triangle-Pose/image30.png\n"
          ]
        },
        {
          "output_type": "stream",
          "name": "stderr",
          "text": [
            "Processing Triangle-Pose:  30%|██▉       | 81/274 [00:10<00:18, 10.52it/s]"
          ]
        },
        {
          "output_type": "stream",
          "name": "stdout",
          "text": [
            "No pose detected in: /content/yoga_dataset/Triangle-Pose-20221027T035558Z-001/Triangle-Pose/images101.jpg\n"
          ]
        },
        {
          "output_type": "stream",
          "name": "stderr",
          "text": [
            "Processing Triangle-Pose:  41%|████      | 111/274 [00:13<00:14, 10.98it/s]"
          ]
        },
        {
          "output_type": "stream",
          "name": "stdout",
          "text": [
            "No pose detected in: /content/yoga_dataset/Triangle-Pose-20221027T035558Z-001/Triangle-Pose/afb95eaf-0efe-4fd4-b07d-86515d44fc6b.png\n"
          ]
        },
        {
          "output_type": "stream",
          "name": "stderr",
          "text": [
            "Processing Triangle-Pose:  43%|████▎     | 117/274 [00:13<00:14, 10.98it/s]"
          ]
        },
        {
          "output_type": "stream",
          "name": "stdout",
          "text": [
            "No pose detected in: /content/yoga_dataset/Triangle-Pose-20221027T035558Z-001/Triangle-Pose/icon-woman-doing-yoga-triangle-pose-hand-drawn-outline-doodle-icon-137364394.jpg\n",
            "No pose detected in: /content/yoga_dataset/Triangle-Pose-20221027T035558Z-001/Triangle-Pose/images13.jpg\n"
          ]
        },
        {
          "output_type": "stream",
          "name": "stderr",
          "text": [
            "Processing Triangle-Pose:  48%|████▊     | 131/274 [00:15<00:13, 10.90it/s]"
          ]
        },
        {
          "output_type": "stream",
          "name": "stdout",
          "text": [
            "No pose detected in: /content/yoga_dataset/Triangle-Pose-20221027T035558Z-001/Triangle-Pose/images154.jpg\n"
          ]
        },
        {
          "output_type": "stream",
          "name": "stderr",
          "text": [
            "Processing Triangle-Pose:  54%|█████▍    | 148/274 [00:17<00:13,  9.01it/s]"
          ]
        },
        {
          "output_type": "stream",
          "name": "stdout",
          "text": [
            "No pose detected in: /content/yoga_dataset/Triangle-Pose-20221027T035558Z-001/Triangle-Pose/images79.jpg\n"
          ]
        },
        {
          "output_type": "stream",
          "name": "stderr",
          "text": [
            "Processing Triangle-Pose:  60%|██████    | 165/274 [00:19<00:10, 10.24it/s]"
          ]
        },
        {
          "output_type": "stream",
          "name": "stdout",
          "text": [
            "No pose detected in: /content/yoga_dataset/Triangle-Pose-20221027T035558Z-001/Triangle-Pose/images88.jpg\n"
          ]
        },
        {
          "output_type": "stream",
          "name": "stderr",
          "text": [
            "Processing Triangle-Pose:  64%|██████▍   | 175/274 [00:20<00:13,  7.11it/s]"
          ]
        },
        {
          "output_type": "stream",
          "name": "stdout",
          "text": [
            "No pose detected in: /content/yoga_dataset/Triangle-Pose-20221027T035558Z-001/Triangle-Pose/images91.jpg\n"
          ]
        },
        {
          "output_type": "stream",
          "name": "stderr",
          "text": [
            "Processing Triangle-Pose:  69%|██████▊   | 188/274 [00:22<00:10,  8.09it/s]"
          ]
        },
        {
          "output_type": "stream",
          "name": "stdout",
          "text": [
            "No pose detected in: /content/yoga_dataset/Triangle-Pose-20221027T035558Z-001/Triangle-Pose/Asanas-Learn-Triangle-pose_480x480.jpg\n"
          ]
        },
        {
          "output_type": "stream",
          "name": "stderr",
          "text": [
            "Processing Triangle-Pose:  77%|███████▋  | 212/274 [00:25<00:07,  8.42it/s]"
          ]
        },
        {
          "output_type": "stream",
          "name": "stdout",
          "text": [
            "No pose detected in: /content/yoga_dataset/Triangle-Pose-20221027T035558Z-001/Triangle-Pose/utthita_trikonasana_block_yoga.png\n"
          ]
        },
        {
          "output_type": "stream",
          "name": "stderr",
          "text": [
            "Processing Triangle-Pose:  82%|████████▏ | 224/274 [00:26<00:04, 11.26it/s]"
          ]
        },
        {
          "output_type": "stream",
          "name": "stdout",
          "text": [
            "No pose detected in: /content/yoga_dataset/Triangle-Pose-20221027T035558Z-001/Triangle-Pose/image32.png\n"
          ]
        },
        {
          "output_type": "stream",
          "name": "stderr",
          "text": [
            "\rProcessing Triangle-Pose:  82%|████████▏ | 226/274 [00:27<00:04, 11.91it/s]"
          ]
        },
        {
          "output_type": "stream",
          "name": "stdout",
          "text": [
            "No pose detected in: /content/yoga_dataset/Triangle-Pose-20221027T035558Z-001/Triangle-Pose/AOh-ky1xuGSuo1cFBPOmcqkrelO7CtXbSsHfwZPiu8CQbAs64-c-mo.jpg\n"
          ]
        },
        {
          "output_type": "stream",
          "name": "stderr",
          "text": [
            "Processing Triangle-Pose:  85%|████████▍ | 232/274 [00:27<00:03, 11.08it/s]"
          ]
        },
        {
          "output_type": "stream",
          "name": "stdout",
          "text": [
            "No pose detected in: /content/yoga_dataset/Triangle-Pose-20221027T035558Z-001/Triangle-Pose/fallen_triangle_pose___yoga.png\n"
          ]
        },
        {
          "output_type": "stream",
          "name": "stderr",
          "text": [
            "Processing Triangle-Pose: 100%|██████████| 274/274 [00:32<00:00,  8.37it/s]\n"
          ]
        },
        {
          "output_type": "stream",
          "name": "stdout",
          "text": [
            "No pose detected in: /content/yoga_dataset/Triangle-Pose-20221027T035558Z-001/Triangle-Pose/warrior_pose_i_triangle_pose_flow__virabhadrasana_i_trikonasana_vinyasa_yoga.png\n",
            "\n",
            "Results:\n",
            "- Successfully processed: 1998 images\n",
            "- Failed to process: 179 images\n",
            "\n",
            "Sample data:\n",
            "   joint_0_x  joint_0_y  joint_1_x  joint_1_y  joint_2_x  joint_2_y  \\\n",
            "0   0.652931   0.211063   0.642397   0.188787   0.641839   0.188596   \n",
            "1   0.767672   0.767159   0.789395   0.753154   0.789967   0.750983   \n",
            "2   0.432599   0.266781   0.448031   0.271336   0.449410   0.274400   \n",
            "3   0.549663   0.617688   0.572396   0.599031   0.580364   0.603102   \n",
            "4   0.496035   0.021283   0.517500  -0.012511   0.531713  -0.012227   \n",
            "\n",
            "   joint_3_x  joint_3_y  joint_4_x  joint_4_y  ...  joint_28_y  joint_29_x  \\\n",
            "0   0.641557   0.188031   0.638819   0.191420  ...    0.756672    0.197441   \n",
            "1   0.790535   0.749200   0.788675   0.750158  ...    0.259359    0.500562   \n",
            "2   0.450979   0.277294   0.448026   0.271508  ...    0.702001    0.602150   \n",
            "3   0.587856   0.606463   0.568083   0.594656  ...    0.237252    0.499422   \n",
            "4   0.545226  -0.013227   0.478923  -0.014286  ...    0.597769    0.526207   \n",
            "\n",
            "   joint_29_y  joint_30_x  joint_30_y  joint_31_x  joint_31_y  joint_32_x  \\\n",
            "0    0.504357    0.544670    0.745280    0.154495    0.534755    0.559227   \n",
            "1    0.732559    0.144372    0.239201    0.546150    0.753364    0.102730   \n",
            "2    0.469954    0.454203    0.689294    0.618898    0.372797    0.469259   \n",
            "3    0.567419    0.645546    0.200162    0.568869    0.448277    0.790965   \n",
            "4    1.236339    0.662709    0.690678    0.499802    1.325269    0.700537   \n",
            "\n",
            "   joint_32_y    pose_name  \n",
            "0    0.748372  Pigeon-Pose  \n",
            "1    0.238506  Pigeon-Pose  \n",
            "2    0.719522  Pigeon-Pose  \n",
            "3    0.157817  Pigeon-Pose  \n",
            "4    0.696572  Pigeon-Pose  \n",
            "\n",
            "[5 rows x 67 columns]\n",
            "\n",
            "Saved to: /content/yoga_pose_keypoints.csv\n"
          ]
        }
      ]
    },
    {
      "cell_type": "code",
      "source": [
        "import numpy as np\n",
        "from sklearn.model_selection import train_test_split\n",
        "from sklearn.preprocessing import LabelEncoder\n",
        "from tensorflow.keras.models import Sequential\n",
        "from tensorflow.keras.layers import Conv1D, MaxPooling1D, Flatten, Dense, Dropout\n",
        "from tensorflow.keras.utils import to_categorical\n",
        "from tensorflow.keras.callbacks import EarlyStopping\n",
        "import matplotlib.pyplot as plt\n",
        "from sklearn.metrics import classification_report, confusion_matrix\n",
        "import seaborn as sns\n"
      ],
      "metadata": {
        "id": "JBvvY932FqPX"
      },
      "execution_count": null,
      "outputs": []
    },
    {
      "cell_type": "code",
      "source": [
        "# Load the extracted keypoints\n",
        "df = pd.read_csv('/content/yoga_pose_keypoints.csv')\n",
        "\n",
        "# Encode pose labels\n",
        "label_encoder = LabelEncoder()\n",
        "y = label_encoder.fit_transform(df['pose_name'])\n",
        "num_classes = len(label_encoder.classes_)\n",
        "\n",
        "# Prepare features (drop the pose_name column)\n",
        "X = df.drop('pose_name', axis=1).values\n",
        "\n",
        "# Reshape for CNN (samples, timesteps, features)\n",
        "X = X.reshape(X.shape[0], X.shape[1], 1)\n",
        "\n",
        "# Split into train/test sets\n",
        "X_train, X_test, y_train, y_test = train_test_split(\n",
        "    X, y, test_size=0.2, random_state=42, stratify=y\n",
        ")\n",
        "\n",
        "# One-hot encode labels\n",
        "y_train = to_categorical(y_train, num_classes)\n",
        "y_test = to_categorical(y_test, num_classes)\n",
        "\n",
        "print(\"\\nData Shapes:\")\n",
        "print(f\"X_train: {X_train.shape}, y_train: {y_train.shape}\")\n",
        "print(f\"X_test: {X_test.shape}, y_test: {y_test.shape}\")"
      ],
      "metadata": {
        "colab": {
          "base_uri": "https://localhost:8080/"
        },
        "id": "bWjvaxZDGec4",
        "outputId": "fd5e634d-e12e-43c2-b927-0bd4e690ad09"
      },
      "execution_count": null,
      "outputs": [
        {
          "output_type": "stream",
          "name": "stdout",
          "text": [
            "\n",
            "Data Shapes:\n",
            "X_train: (1598, 66, 1), y_train: (1598, 9)\n",
            "X_test: (400, 66, 1), y_test: (400, 9)\n"
          ]
        }
      ]
    },
    {
      "cell_type": "code",
      "source": [
        "#  CNN MODEL ARCHITECTURE\n",
        "def build_cnn_model(input_shape, num_classes):\n",
        "    model = Sequential([\n",
        "        Conv1D(64, 3, activation='relu', input_shape=input_shape),\n",
        "        MaxPooling1D(2),\n",
        "        Dropout(0.25),\n",
        "\n",
        "        Conv1D(128, 3, activation='relu'),\n",
        "        MaxPooling1D(2),\n",
        "        Dropout(0.25),\n",
        "\n",
        "        Flatten(),\n",
        "        Dense(256, activation='relu'),\n",
        "        Dropout(0.5),\n",
        "        Dense(num_classes, activation='softmax')\n",
        "    ])\n",
        "\n",
        "    model.compile(\n",
        "        optimizer='adam',\n",
        "        loss='categorical_crossentropy',\n",
        "        metrics=['accuracy']\n",
        "    )\n",
        "\n",
        "    return model\n",
        "\n",
        "model = build_cnn_model((X_train.shape[1], 1), num_classes)\n",
        "model.summary()"
      ],
      "metadata": {
        "colab": {
          "base_uri": "https://localhost:8080/",
          "height": 504
        },
        "id": "Zb5T7X3kGhDo",
        "outputId": "6c32ac3a-6570-48c1-e34d-a656f09d12a8"
      },
      "execution_count": null,
      "outputs": [
        {
          "output_type": "stream",
          "name": "stderr",
          "text": [
            "/usr/local/lib/python3.11/dist-packages/keras/src/layers/convolutional/base_conv.py:107: UserWarning: Do not pass an `input_shape`/`input_dim` argument to a layer. When using Sequential models, prefer using an `Input(shape)` object as the first layer in the model instead.\n",
            "  super().__init__(activity_regularizer=activity_regularizer, **kwargs)\n"
          ]
        },
        {
          "output_type": "display_data",
          "data": {
            "text/plain": [
              "\u001b[1mModel: \"sequential\"\u001b[0m\n"
            ],
            "text/html": [
              "<pre style=\"white-space:pre;overflow-x:auto;line-height:normal;font-family:Menlo,'DejaVu Sans Mono',consolas,'Courier New',monospace\"><span style=\"font-weight: bold\">Model: \"sequential\"</span>\n",
              "</pre>\n"
            ]
          },
          "metadata": {}
        },
        {
          "output_type": "display_data",
          "data": {
            "text/plain": [
              "┏━━━━━━━━━━━━━━━━━━━━━━━━━━━━━━━━━┳━━━━━━━━━━━━━━━━━━━━━━━━┳━━━━━━━━━━━━━━━┓\n",
              "┃\u001b[1m \u001b[0m\u001b[1mLayer (type)                   \u001b[0m\u001b[1m \u001b[0m┃\u001b[1m \u001b[0m\u001b[1mOutput Shape          \u001b[0m\u001b[1m \u001b[0m┃\u001b[1m \u001b[0m\u001b[1m      Param #\u001b[0m\u001b[1m \u001b[0m┃\n",
              "┡━━━━━━━━━━━━━━━━━━━━━━━━━━━━━━━━━╇━━━━━━━━━━━━━━━━━━━━━━━━╇━━━━━━━━━━━━━━━┩\n",
              "│ conv1d (\u001b[38;5;33mConv1D\u001b[0m)                 │ (\u001b[38;5;45mNone\u001b[0m, \u001b[38;5;34m64\u001b[0m, \u001b[38;5;34m64\u001b[0m)         │           \u001b[38;5;34m256\u001b[0m │\n",
              "├─────────────────────────────────┼────────────────────────┼───────────────┤\n",
              "│ max_pooling1d (\u001b[38;5;33mMaxPooling1D\u001b[0m)    │ (\u001b[38;5;45mNone\u001b[0m, \u001b[38;5;34m32\u001b[0m, \u001b[38;5;34m64\u001b[0m)         │             \u001b[38;5;34m0\u001b[0m │\n",
              "├─────────────────────────────────┼────────────────────────┼───────────────┤\n",
              "│ dropout (\u001b[38;5;33mDropout\u001b[0m)               │ (\u001b[38;5;45mNone\u001b[0m, \u001b[38;5;34m32\u001b[0m, \u001b[38;5;34m64\u001b[0m)         │             \u001b[38;5;34m0\u001b[0m │\n",
              "├─────────────────────────────────┼────────────────────────┼───────────────┤\n",
              "│ conv1d_1 (\u001b[38;5;33mConv1D\u001b[0m)               │ (\u001b[38;5;45mNone\u001b[0m, \u001b[38;5;34m30\u001b[0m, \u001b[38;5;34m128\u001b[0m)        │        \u001b[38;5;34m24,704\u001b[0m │\n",
              "├─────────────────────────────────┼────────────────────────┼───────────────┤\n",
              "│ max_pooling1d_1 (\u001b[38;5;33mMaxPooling1D\u001b[0m)  │ (\u001b[38;5;45mNone\u001b[0m, \u001b[38;5;34m15\u001b[0m, \u001b[38;5;34m128\u001b[0m)        │             \u001b[38;5;34m0\u001b[0m │\n",
              "├─────────────────────────────────┼────────────────────────┼───────────────┤\n",
              "│ dropout_1 (\u001b[38;5;33mDropout\u001b[0m)             │ (\u001b[38;5;45mNone\u001b[0m, \u001b[38;5;34m15\u001b[0m, \u001b[38;5;34m128\u001b[0m)        │             \u001b[38;5;34m0\u001b[0m │\n",
              "├─────────────────────────────────┼────────────────────────┼───────────────┤\n",
              "│ flatten (\u001b[38;5;33mFlatten\u001b[0m)               │ (\u001b[38;5;45mNone\u001b[0m, \u001b[38;5;34m1920\u001b[0m)           │             \u001b[38;5;34m0\u001b[0m │\n",
              "├─────────────────────────────────┼────────────────────────┼───────────────┤\n",
              "│ dense (\u001b[38;5;33mDense\u001b[0m)                   │ (\u001b[38;5;45mNone\u001b[0m, \u001b[38;5;34m256\u001b[0m)            │       \u001b[38;5;34m491,776\u001b[0m │\n",
              "├─────────────────────────────────┼────────────────────────┼───────────────┤\n",
              "│ dropout_2 (\u001b[38;5;33mDropout\u001b[0m)             │ (\u001b[38;5;45mNone\u001b[0m, \u001b[38;5;34m256\u001b[0m)            │             \u001b[38;5;34m0\u001b[0m │\n",
              "├─────────────────────────────────┼────────────────────────┼───────────────┤\n",
              "│ dense_1 (\u001b[38;5;33mDense\u001b[0m)                 │ (\u001b[38;5;45mNone\u001b[0m, \u001b[38;5;34m9\u001b[0m)              │         \u001b[38;5;34m2,313\u001b[0m │\n",
              "└─────────────────────────────────┴────────────────────────┴───────────────┘\n"
            ],
            "text/html": [
              "<pre style=\"white-space:pre;overflow-x:auto;line-height:normal;font-family:Menlo,'DejaVu Sans Mono',consolas,'Courier New',monospace\">┏━━━━━━━━━━━━━━━━━━━━━━━━━━━━━━━━━┳━━━━━━━━━━━━━━━━━━━━━━━━┳━━━━━━━━━━━━━━━┓\n",
              "┃<span style=\"font-weight: bold\"> Layer (type)                    </span>┃<span style=\"font-weight: bold\"> Output Shape           </span>┃<span style=\"font-weight: bold\">       Param # </span>┃\n",
              "┡━━━━━━━━━━━━━━━━━━━━━━━━━━━━━━━━━╇━━━━━━━━━━━━━━━━━━━━━━━━╇━━━━━━━━━━━━━━━┩\n",
              "│ conv1d (<span style=\"color: #0087ff; text-decoration-color: #0087ff\">Conv1D</span>)                 │ (<span style=\"color: #00d7ff; text-decoration-color: #00d7ff\">None</span>, <span style=\"color: #00af00; text-decoration-color: #00af00\">64</span>, <span style=\"color: #00af00; text-decoration-color: #00af00\">64</span>)         │           <span style=\"color: #00af00; text-decoration-color: #00af00\">256</span> │\n",
              "├─────────────────────────────────┼────────────────────────┼───────────────┤\n",
              "│ max_pooling1d (<span style=\"color: #0087ff; text-decoration-color: #0087ff\">MaxPooling1D</span>)    │ (<span style=\"color: #00d7ff; text-decoration-color: #00d7ff\">None</span>, <span style=\"color: #00af00; text-decoration-color: #00af00\">32</span>, <span style=\"color: #00af00; text-decoration-color: #00af00\">64</span>)         │             <span style=\"color: #00af00; text-decoration-color: #00af00\">0</span> │\n",
              "├─────────────────────────────────┼────────────────────────┼───────────────┤\n",
              "│ dropout (<span style=\"color: #0087ff; text-decoration-color: #0087ff\">Dropout</span>)               │ (<span style=\"color: #00d7ff; text-decoration-color: #00d7ff\">None</span>, <span style=\"color: #00af00; text-decoration-color: #00af00\">32</span>, <span style=\"color: #00af00; text-decoration-color: #00af00\">64</span>)         │             <span style=\"color: #00af00; text-decoration-color: #00af00\">0</span> │\n",
              "├─────────────────────────────────┼────────────────────────┼───────────────┤\n",
              "│ conv1d_1 (<span style=\"color: #0087ff; text-decoration-color: #0087ff\">Conv1D</span>)               │ (<span style=\"color: #00d7ff; text-decoration-color: #00d7ff\">None</span>, <span style=\"color: #00af00; text-decoration-color: #00af00\">30</span>, <span style=\"color: #00af00; text-decoration-color: #00af00\">128</span>)        │        <span style=\"color: #00af00; text-decoration-color: #00af00\">24,704</span> │\n",
              "├─────────────────────────────────┼────────────────────────┼───────────────┤\n",
              "│ max_pooling1d_1 (<span style=\"color: #0087ff; text-decoration-color: #0087ff\">MaxPooling1D</span>)  │ (<span style=\"color: #00d7ff; text-decoration-color: #00d7ff\">None</span>, <span style=\"color: #00af00; text-decoration-color: #00af00\">15</span>, <span style=\"color: #00af00; text-decoration-color: #00af00\">128</span>)        │             <span style=\"color: #00af00; text-decoration-color: #00af00\">0</span> │\n",
              "├─────────────────────────────────┼────────────────────────┼───────────────┤\n",
              "│ dropout_1 (<span style=\"color: #0087ff; text-decoration-color: #0087ff\">Dropout</span>)             │ (<span style=\"color: #00d7ff; text-decoration-color: #00d7ff\">None</span>, <span style=\"color: #00af00; text-decoration-color: #00af00\">15</span>, <span style=\"color: #00af00; text-decoration-color: #00af00\">128</span>)        │             <span style=\"color: #00af00; text-decoration-color: #00af00\">0</span> │\n",
              "├─────────────────────────────────┼────────────────────────┼───────────────┤\n",
              "│ flatten (<span style=\"color: #0087ff; text-decoration-color: #0087ff\">Flatten</span>)               │ (<span style=\"color: #00d7ff; text-decoration-color: #00d7ff\">None</span>, <span style=\"color: #00af00; text-decoration-color: #00af00\">1920</span>)           │             <span style=\"color: #00af00; text-decoration-color: #00af00\">0</span> │\n",
              "├─────────────────────────────────┼────────────────────────┼───────────────┤\n",
              "│ dense (<span style=\"color: #0087ff; text-decoration-color: #0087ff\">Dense</span>)                   │ (<span style=\"color: #00d7ff; text-decoration-color: #00d7ff\">None</span>, <span style=\"color: #00af00; text-decoration-color: #00af00\">256</span>)            │       <span style=\"color: #00af00; text-decoration-color: #00af00\">491,776</span> │\n",
              "├─────────────────────────────────┼────────────────────────┼───────────────┤\n",
              "│ dropout_2 (<span style=\"color: #0087ff; text-decoration-color: #0087ff\">Dropout</span>)             │ (<span style=\"color: #00d7ff; text-decoration-color: #00d7ff\">None</span>, <span style=\"color: #00af00; text-decoration-color: #00af00\">256</span>)            │             <span style=\"color: #00af00; text-decoration-color: #00af00\">0</span> │\n",
              "├─────────────────────────────────┼────────────────────────┼───────────────┤\n",
              "│ dense_1 (<span style=\"color: #0087ff; text-decoration-color: #0087ff\">Dense</span>)                 │ (<span style=\"color: #00d7ff; text-decoration-color: #00d7ff\">None</span>, <span style=\"color: #00af00; text-decoration-color: #00af00\">9</span>)              │         <span style=\"color: #00af00; text-decoration-color: #00af00\">2,313</span> │\n",
              "└─────────────────────────────────┴────────────────────────┴───────────────┘\n",
              "</pre>\n"
            ]
          },
          "metadata": {}
        },
        {
          "output_type": "display_data",
          "data": {
            "text/plain": [
              "\u001b[1m Total params: \u001b[0m\u001b[38;5;34m519,049\u001b[0m (1.98 MB)\n"
            ],
            "text/html": [
              "<pre style=\"white-space:pre;overflow-x:auto;line-height:normal;font-family:Menlo,'DejaVu Sans Mono',consolas,'Courier New',monospace\"><span style=\"font-weight: bold\"> Total params: </span><span style=\"color: #00af00; text-decoration-color: #00af00\">519,049</span> (1.98 MB)\n",
              "</pre>\n"
            ]
          },
          "metadata": {}
        },
        {
          "output_type": "display_data",
          "data": {
            "text/plain": [
              "\u001b[1m Trainable params: \u001b[0m\u001b[38;5;34m519,049\u001b[0m (1.98 MB)\n"
            ],
            "text/html": [
              "<pre style=\"white-space:pre;overflow-x:auto;line-height:normal;font-family:Menlo,'DejaVu Sans Mono',consolas,'Courier New',monospace\"><span style=\"font-weight: bold\"> Trainable params: </span><span style=\"color: #00af00; text-decoration-color: #00af00\">519,049</span> (1.98 MB)\n",
              "</pre>\n"
            ]
          },
          "metadata": {}
        },
        {
          "output_type": "display_data",
          "data": {
            "text/plain": [
              "\u001b[1m Non-trainable params: \u001b[0m\u001b[38;5;34m0\u001b[0m (0.00 B)\n"
            ],
            "text/html": [
              "<pre style=\"white-space:pre;overflow-x:auto;line-height:normal;font-family:Menlo,'DejaVu Sans Mono',consolas,'Courier New',monospace\"><span style=\"font-weight: bold\"> Non-trainable params: </span><span style=\"color: #00af00; text-decoration-color: #00af00\">0</span> (0.00 B)\n",
              "</pre>\n"
            ]
          },
          "metadata": {}
        }
      ]
    },
    {
      "cell_type": "code",
      "source": [
        "# TRAIN THE MODEL\n",
        "early_stop = EarlyStopping(monitor='val_loss', patience=10, restore_best_weights=True)\n",
        "\n",
        "history = model.fit(\n",
        "    X_train, y_train,\n",
        "    epochs=80,\n",
        "    batch_size=32,\n",
        "    validation_split=0.2,\n",
        "    callbacks=[early_stop],\n",
        "    verbose=1\n",
        ")\n",
        "\n",
        "# Plot training history\n",
        "plt.figure(figsize=(12, 4))\n",
        "plt.subplot(1, 2, 1)\n",
        "plt.plot(history.history['accuracy'], label='Train Accuracy')\n",
        "plt.plot(history.history['val_accuracy'], label='Validation Accuracy')\n",
        "plt.title('Accuracy Over Epochs')\n",
        "plt.legend()\n",
        "\n",
        "plt.subplot(1, 2, 2)\n",
        "plt.plot(history.history['loss'], label='Train Loss')\n",
        "plt.plot(history.history['val_loss'], label='Validation Loss')\n",
        "plt.title('Loss Over Epochs')\n",
        "plt.legend()\n",
        "plt.show()"
      ],
      "metadata": {
        "colab": {
          "base_uri": "https://localhost:8080/",
          "height": 1000
        },
        "id": "0WKq8wbcGkAQ",
        "outputId": "98945da9-0b71-45cf-9ac6-26f37923236e"
      },
      "execution_count": null,
      "outputs": [
        {
          "output_type": "stream",
          "name": "stdout",
          "text": [
            "Epoch 1/80\n",
            "\u001b[1m40/40\u001b[0m \u001b[32m━━━━━━━━━━━━━━━━━━━━\u001b[0m\u001b[37m\u001b[0m \u001b[1m3s\u001b[0m 23ms/step - accuracy: 0.1411 - loss: 2.1882 - val_accuracy: 0.2219 - val_loss: 2.1054\n",
            "Epoch 2/80\n",
            "\u001b[1m40/40\u001b[0m \u001b[32m━━━━━━━━━━━━━━━━━━━━\u001b[0m\u001b[37m\u001b[0m \u001b[1m1s\u001b[0m 21ms/step - accuracy: 0.2597 - loss: 2.0450 - val_accuracy: 0.4500 - val_loss: 1.6630\n",
            "Epoch 3/80\n",
            "\u001b[1m40/40\u001b[0m \u001b[32m━━━━━━━━━━━━━━━━━━━━\u001b[0m\u001b[37m\u001b[0m \u001b[1m1s\u001b[0m 16ms/step - accuracy: 0.4219 - loss: 1.6641 - val_accuracy: 0.5844 - val_loss: 1.4106\n",
            "Epoch 4/80\n",
            "\u001b[1m40/40\u001b[0m \u001b[32m━━━━━━━━━━━━━━━━━━━━\u001b[0m\u001b[37m\u001b[0m \u001b[1m1s\u001b[0m 15ms/step - accuracy: 0.5067 - loss: 1.4131 - val_accuracy: 0.6187 - val_loss: 1.2474\n",
            "Epoch 5/80\n",
            "\u001b[1m40/40\u001b[0m \u001b[32m━━━━━━━━━━━━━━━━━━━━\u001b[0m\u001b[37m\u001b[0m \u001b[1m1s\u001b[0m 22ms/step - accuracy: 0.5736 - loss: 1.3231 - val_accuracy: 0.7000 - val_loss: 1.1217\n",
            "Epoch 6/80\n",
            "\u001b[1m40/40\u001b[0m \u001b[32m━━━━━━━━━━━━━━━━━━━━\u001b[0m\u001b[37m\u001b[0m \u001b[1m1s\u001b[0m 25ms/step - accuracy: 0.6476 - loss: 1.1799 - val_accuracy: 0.7281 - val_loss: 1.0875\n",
            "Epoch 7/80\n",
            "\u001b[1m40/40\u001b[0m \u001b[32m━━━━━━━━━━━━━━━━━━━━\u001b[0m\u001b[37m\u001b[0m \u001b[1m1s\u001b[0m 15ms/step - accuracy: 0.6595 - loss: 1.1274 - val_accuracy: 0.7469 - val_loss: 0.9846\n",
            "Epoch 8/80\n",
            "\u001b[1m40/40\u001b[0m \u001b[32m━━━━━━━━━━━━━━━━━━━━\u001b[0m\u001b[37m\u001b[0m \u001b[1m1s\u001b[0m 16ms/step - accuracy: 0.7138 - loss: 0.9827 - val_accuracy: 0.7812 - val_loss: 0.9431\n",
            "Epoch 9/80\n",
            "\u001b[1m40/40\u001b[0m \u001b[32m━━━━━━━━━━━━━━━━━━━━\u001b[0m\u001b[37m\u001b[0m \u001b[1m1s\u001b[0m 15ms/step - accuracy: 0.7295 - loss: 0.9063 - val_accuracy: 0.7688 - val_loss: 0.9096\n",
            "Epoch 10/80\n",
            "\u001b[1m40/40\u001b[0m \u001b[32m━━━━━━━━━━━━━━━━━━━━\u001b[0m\u001b[37m\u001b[0m \u001b[1m1s\u001b[0m 15ms/step - accuracy: 0.7572 - loss: 0.8941 - val_accuracy: 0.7750 - val_loss: 0.8294\n",
            "Epoch 11/80\n",
            "\u001b[1m40/40\u001b[0m \u001b[32m━━━━━━━━━━━━━━━━━━━━\u001b[0m\u001b[37m\u001b[0m \u001b[1m1s\u001b[0m 15ms/step - accuracy: 0.7448 - loss: 0.9112 - val_accuracy: 0.7875 - val_loss: 0.7926\n",
            "Epoch 12/80\n",
            "\u001b[1m40/40\u001b[0m \u001b[32m━━━━━━━━━━━━━━━━━━━━\u001b[0m\u001b[37m\u001b[0m \u001b[1m1s\u001b[0m 15ms/step - accuracy: 0.7828 - loss: 0.7640 - val_accuracy: 0.7812 - val_loss: 0.7953\n",
            "Epoch 13/80\n",
            "\u001b[1m40/40\u001b[0m \u001b[32m━━━━━━━━━━━━━━━━━━━━\u001b[0m\u001b[37m\u001b[0m \u001b[1m1s\u001b[0m 16ms/step - accuracy: 0.7815 - loss: 0.8115 - val_accuracy: 0.7844 - val_loss: 0.7775\n",
            "Epoch 14/80\n",
            "\u001b[1m40/40\u001b[0m \u001b[32m━━━━━━━━━━━━━━━━━━━━\u001b[0m\u001b[37m\u001b[0m \u001b[1m1s\u001b[0m 15ms/step - accuracy: 0.7843 - loss: 0.8020 - val_accuracy: 0.7906 - val_loss: 0.7703\n",
            "Epoch 15/80\n",
            "\u001b[1m40/40\u001b[0m \u001b[32m━━━━━━━━━━━━━━━━━━━━\u001b[0m\u001b[37m\u001b[0m \u001b[1m1s\u001b[0m 16ms/step - accuracy: 0.7964 - loss: 0.7401 - val_accuracy: 0.8000 - val_loss: 0.7505\n",
            "Epoch 16/80\n",
            "\u001b[1m40/40\u001b[0m \u001b[32m━━━━━━━━━━━━━━━━━━━━\u001b[0m\u001b[37m\u001b[0m \u001b[1m1s\u001b[0m 15ms/step - accuracy: 0.7874 - loss: 0.7181 - val_accuracy: 0.8062 - val_loss: 0.7302\n",
            "Epoch 17/80\n",
            "\u001b[1m40/40\u001b[0m \u001b[32m━━━━━━━━━━━━━━━━━━━━\u001b[0m\u001b[37m\u001b[0m \u001b[1m1s\u001b[0m 16ms/step - accuracy: 0.8036 - loss: 0.6904 - val_accuracy: 0.8031 - val_loss: 0.7428\n",
            "Epoch 18/80\n",
            "\u001b[1m40/40\u001b[0m \u001b[32m━━━━━━━━━━━━━━━━━━━━\u001b[0m\u001b[37m\u001b[0m \u001b[1m1s\u001b[0m 16ms/step - accuracy: 0.8046 - loss: 0.7130 - val_accuracy: 0.8156 - val_loss: 0.6930\n",
            "Epoch 19/80\n",
            "\u001b[1m40/40\u001b[0m \u001b[32m━━━━━━━━━━━━━━━━━━━━\u001b[0m\u001b[37m\u001b[0m \u001b[1m1s\u001b[0m 17ms/step - accuracy: 0.8445 - loss: 0.6448 - val_accuracy: 0.8000 - val_loss: 0.6968\n",
            "Epoch 20/80\n",
            "\u001b[1m40/40\u001b[0m \u001b[32m━━━━━━━━━━━━━━━━━━━━\u001b[0m\u001b[37m\u001b[0m \u001b[1m1s\u001b[0m 27ms/step - accuracy: 0.8103 - loss: 0.6735 - val_accuracy: 0.8188 - val_loss: 0.6986\n",
            "Epoch 21/80\n",
            "\u001b[1m40/40\u001b[0m \u001b[32m━━━━━━━━━━━━━━━━━━━━\u001b[0m\u001b[37m\u001b[0m \u001b[1m1s\u001b[0m 27ms/step - accuracy: 0.8213 - loss: 0.6503 - val_accuracy: 0.8125 - val_loss: 0.7219\n",
            "Epoch 22/80\n",
            "\u001b[1m40/40\u001b[0m \u001b[32m━━━━━━━━━━━━━━━━━━━━\u001b[0m\u001b[37m\u001b[0m \u001b[1m1s\u001b[0m 15ms/step - accuracy: 0.8148 - loss: 0.6500 - val_accuracy: 0.8219 - val_loss: 0.6797\n",
            "Epoch 23/80\n",
            "\u001b[1m40/40\u001b[0m \u001b[32m━━━━━━━━━━━━━━━━━━━━\u001b[0m\u001b[37m\u001b[0m \u001b[1m1s\u001b[0m 15ms/step - accuracy: 0.8206 - loss: 0.6211 - val_accuracy: 0.8219 - val_loss: 0.6763\n",
            "Epoch 24/80\n",
            "\u001b[1m40/40\u001b[0m \u001b[32m━━━━━━━━━━━━━━━━━━━━\u001b[0m\u001b[37m\u001b[0m \u001b[1m1s\u001b[0m 15ms/step - accuracy: 0.8201 - loss: 0.6117 - val_accuracy: 0.8188 - val_loss: 0.6768\n",
            "Epoch 25/80\n",
            "\u001b[1m40/40\u001b[0m \u001b[32m━━━━━━━━━━━━━━━━━━━━\u001b[0m\u001b[37m\u001b[0m \u001b[1m1s\u001b[0m 15ms/step - accuracy: 0.8157 - loss: 0.6318 - val_accuracy: 0.8156 - val_loss: 0.6700\n",
            "Epoch 26/80\n",
            "\u001b[1m40/40\u001b[0m \u001b[32m━━━━━━━━━━━━━━━━━━━━\u001b[0m\u001b[37m\u001b[0m \u001b[1m1s\u001b[0m 15ms/step - accuracy: 0.8291 - loss: 0.6158 - val_accuracy: 0.8219 - val_loss: 0.6735\n",
            "Epoch 27/80\n",
            "\u001b[1m40/40\u001b[0m \u001b[32m━━━━━━━━━━━━━━━━━━━━\u001b[0m\u001b[37m\u001b[0m \u001b[1m1s\u001b[0m 15ms/step - accuracy: 0.8239 - loss: 0.5547 - val_accuracy: 0.8281 - val_loss: 0.6500\n",
            "Epoch 28/80\n",
            "\u001b[1m40/40\u001b[0m \u001b[32m━━━━━━━━━━━━━━━━━━━━\u001b[0m\u001b[37m\u001b[0m \u001b[1m1s\u001b[0m 15ms/step - accuracy: 0.8468 - loss: 0.5562 - val_accuracy: 0.8344 - val_loss: 0.6441\n",
            "Epoch 29/80\n",
            "\u001b[1m40/40\u001b[0m \u001b[32m━━━━━━━━━━━━━━━━━━━━\u001b[0m\u001b[37m\u001b[0m \u001b[1m1s\u001b[0m 16ms/step - accuracy: 0.8395 - loss: 0.5744 - val_accuracy: 0.8219 - val_loss: 0.6558\n",
            "Epoch 30/80\n",
            "\u001b[1m40/40\u001b[0m \u001b[32m━━━━━━━━━━━━━━━━━━━━\u001b[0m\u001b[37m\u001b[0m \u001b[1m1s\u001b[0m 16ms/step - accuracy: 0.8474 - loss: 0.5187 - val_accuracy: 0.8125 - val_loss: 0.6533\n",
            "Epoch 31/80\n",
            "\u001b[1m40/40\u001b[0m \u001b[32m━━━━━━━━━━━━━━━━━━━━\u001b[0m\u001b[37m\u001b[0m \u001b[1m1s\u001b[0m 15ms/step - accuracy: 0.8336 - loss: 0.5606 - val_accuracy: 0.8219 - val_loss: 0.6487\n",
            "Epoch 32/80\n",
            "\u001b[1m40/40\u001b[0m \u001b[32m━━━━━━━━━━━━━━━━━━━━\u001b[0m\u001b[37m\u001b[0m \u001b[1m1s\u001b[0m 22ms/step - accuracy: 0.8425 - loss: 0.5442 - val_accuracy: 0.8344 - val_loss: 0.6481\n",
            "Epoch 33/80\n",
            "\u001b[1m40/40\u001b[0m \u001b[32m━━━━━━━━━━━━━━━━━━━━\u001b[0m\u001b[37m\u001b[0m \u001b[1m1s\u001b[0m 27ms/step - accuracy: 0.8485 - loss: 0.5075 - val_accuracy: 0.8188 - val_loss: 0.6347\n",
            "Epoch 34/80\n",
            "\u001b[1m40/40\u001b[0m \u001b[32m━━━━━━━━━━━━━━━━━━━━\u001b[0m\u001b[37m\u001b[0m \u001b[1m1s\u001b[0m 22ms/step - accuracy: 0.8586 - loss: 0.5162 - val_accuracy: 0.8375 - val_loss: 0.6375\n",
            "Epoch 35/80\n",
            "\u001b[1m40/40\u001b[0m \u001b[32m━━━━━━━━━━━━━━━━━━━━\u001b[0m\u001b[37m\u001b[0m \u001b[1m1s\u001b[0m 20ms/step - accuracy: 0.8499 - loss: 0.4884 - val_accuracy: 0.8313 - val_loss: 0.6415\n",
            "Epoch 36/80\n",
            "\u001b[1m40/40\u001b[0m \u001b[32m━━━━━━━━━━━━━━━━━━━━\u001b[0m\u001b[37m\u001b[0m \u001b[1m1s\u001b[0m 34ms/step - accuracy: 0.8467 - loss: 0.5413 - val_accuracy: 0.8281 - val_loss: 0.6529\n",
            "Epoch 37/80\n",
            "\u001b[1m40/40\u001b[0m \u001b[32m━━━━━━━━━━━━━━━━━━━━\u001b[0m\u001b[37m\u001b[0m \u001b[1m3s\u001b[0m 38ms/step - accuracy: 0.8613 - loss: 0.4528 - val_accuracy: 0.8219 - val_loss: 0.6727\n",
            "Epoch 38/80\n",
            "\u001b[1m40/40\u001b[0m \u001b[32m━━━━━━━━━━━━━━━━━━━━\u001b[0m\u001b[37m\u001b[0m \u001b[1m2s\u001b[0m 16ms/step - accuracy: 0.8574 - loss: 0.4904 - val_accuracy: 0.8344 - val_loss: 0.6446\n",
            "Epoch 39/80\n",
            "\u001b[1m40/40\u001b[0m \u001b[32m━━━━━━━━━━━━━━━━━━━━\u001b[0m\u001b[37m\u001b[0m \u001b[1m1s\u001b[0m 16ms/step - accuracy: 0.8520 - loss: 0.5488 - val_accuracy: 0.8250 - val_loss: 0.6382\n",
            "Epoch 40/80\n",
            "\u001b[1m40/40\u001b[0m \u001b[32m━━━━━━━━━━━━━━━━━━━━\u001b[0m\u001b[37m\u001b[0m \u001b[1m1s\u001b[0m 16ms/step - accuracy: 0.8557 - loss: 0.4740 - val_accuracy: 0.8406 - val_loss: 0.6272\n",
            "Epoch 41/80\n",
            "\u001b[1m40/40\u001b[0m \u001b[32m━━━━━━━━━━━━━━━━━━━━\u001b[0m\u001b[37m\u001b[0m \u001b[1m2s\u001b[0m 23ms/step - accuracy: 0.8371 - loss: 0.5281 - val_accuracy: 0.8313 - val_loss: 0.6534\n",
            "Epoch 42/80\n",
            "\u001b[1m40/40\u001b[0m \u001b[32m━━━━━━━━━━━━━━━━━━━━\u001b[0m\u001b[37m\u001b[0m \u001b[1m1s\u001b[0m 26ms/step - accuracy: 0.8532 - loss: 0.5303 - val_accuracy: 0.8375 - val_loss: 0.6262\n",
            "Epoch 43/80\n",
            "\u001b[1m40/40\u001b[0m \u001b[32m━━━━━━━━━━━━━━━━━━━━\u001b[0m\u001b[37m\u001b[0m \u001b[1m1s\u001b[0m 25ms/step - accuracy: 0.8647 - loss: 0.4798 - val_accuracy: 0.8313 - val_loss: 0.6318\n",
            "Epoch 44/80\n",
            "\u001b[1m40/40\u001b[0m \u001b[32m━━━━━━━━━━━━━━━━━━━━\u001b[0m\u001b[37m\u001b[0m \u001b[1m1s\u001b[0m 16ms/step - accuracy: 0.8702 - loss: 0.4851 - val_accuracy: 0.8313 - val_loss: 0.6182\n",
            "Epoch 45/80\n",
            "\u001b[1m40/40\u001b[0m \u001b[32m━━━━━━━━━━━━━━━━━━━━\u001b[0m\u001b[37m\u001b[0m \u001b[1m1s\u001b[0m 15ms/step - accuracy: 0.8779 - loss: 0.4429 - val_accuracy: 0.8375 - val_loss: 0.6170\n",
            "Epoch 46/80\n",
            "\u001b[1m40/40\u001b[0m \u001b[32m━━━━━━━━━━━━━━━━━━━━\u001b[0m\u001b[37m\u001b[0m \u001b[1m1s\u001b[0m 15ms/step - accuracy: 0.8665 - loss: 0.4518 - val_accuracy: 0.8406 - val_loss: 0.6380\n",
            "Epoch 47/80\n",
            "\u001b[1m40/40\u001b[0m \u001b[32m━━━━━━━━━━━━━━━━━━━━\u001b[0m\u001b[37m\u001b[0m \u001b[1m1s\u001b[0m 15ms/step - accuracy: 0.8638 - loss: 0.4389 - val_accuracy: 0.8344 - val_loss: 0.6401\n",
            "Epoch 48/80\n",
            "\u001b[1m40/40\u001b[0m \u001b[32m━━━━━━━━━━━━━━━━━━━━\u001b[0m\u001b[37m\u001b[0m \u001b[1m1s\u001b[0m 16ms/step - accuracy: 0.8687 - loss: 0.4662 - val_accuracy: 0.8344 - val_loss: 0.6408\n",
            "Epoch 49/80\n",
            "\u001b[1m40/40\u001b[0m \u001b[32m━━━━━━━━━━━━━━━━━━━━\u001b[0m\u001b[37m\u001b[0m \u001b[1m1s\u001b[0m 15ms/step - accuracy: 0.8825 - loss: 0.4202 - val_accuracy: 0.8375 - val_loss: 0.6428\n",
            "Epoch 50/80\n",
            "\u001b[1m40/40\u001b[0m \u001b[32m━━━━━━━━━━━━━━━━━━━━\u001b[0m\u001b[37m\u001b[0m \u001b[1m1s\u001b[0m 17ms/step - accuracy: 0.8646 - loss: 0.4734 - val_accuracy: 0.8406 - val_loss: 0.6298\n",
            "Epoch 51/80\n",
            "\u001b[1m40/40\u001b[0m \u001b[32m━━━━━━━━━━━━━━━━━━━━\u001b[0m\u001b[37m\u001b[0m \u001b[1m1s\u001b[0m 15ms/step - accuracy: 0.8763 - loss: 0.4300 - val_accuracy: 0.8344 - val_loss: 0.6661\n",
            "Epoch 52/80\n",
            "\u001b[1m40/40\u001b[0m \u001b[32m━━━━━━━━━━━━━━━━━━━━\u001b[0m\u001b[37m\u001b[0m \u001b[1m1s\u001b[0m 16ms/step - accuracy: 0.8662 - loss: 0.4439 - val_accuracy: 0.8344 - val_loss: 0.6361\n",
            "Epoch 53/80\n",
            "\u001b[1m40/40\u001b[0m \u001b[32m━━━━━━━━━━━━━━━━━━━━\u001b[0m\u001b[37m\u001b[0m \u001b[1m1s\u001b[0m 15ms/step - accuracy: 0.8775 - loss: 0.4166 - val_accuracy: 0.8438 - val_loss: 0.6222\n",
            "Epoch 54/80\n",
            "\u001b[1m40/40\u001b[0m \u001b[32m━━━━━━━━━━━━━━━━━━━━\u001b[0m\u001b[37m\u001b[0m \u001b[1m1s\u001b[0m 16ms/step - accuracy: 0.8790 - loss: 0.3822 - val_accuracy: 0.8344 - val_loss: 0.6520\n",
            "Epoch 55/80\n",
            "\u001b[1m40/40\u001b[0m \u001b[32m━━━━━━━━━━━━━━━━━━━━\u001b[0m\u001b[37m\u001b[0m \u001b[1m2s\u001b[0m 26ms/step - accuracy: 0.8987 - loss: 0.3714 - val_accuracy: 0.8406 - val_loss: 0.6444\n"
          ]
        },
        {
          "output_type": "display_data",
          "data": {
            "text/plain": [
              "<Figure size 1200x400 with 2 Axes>"
            ],
            "image/png": "[encoded data removed]"
          },
          "metadata": {}
        }
      ]
    },
    {
      "cell_type": "code",
      "source": [
        "# EVALUATE THE MODEL\n",
        "# Evaluate on test set\n",
        "test_loss, test_acc = model.evaluate(X_test, y_test, verbose=0)\n",
        "print(f\"\\nTest Accuracy: {test_acc:.4f}\")\n",
        "\n",
        "# Classification report\n",
        "y_pred = model.predict(X_test)\n",
        "y_pred_classes = np.argmax(y_pred, axis=1)\n",
        "y_true = np.argmax(y_test, axis=1)\n",
        "\n",
        "print(\"\\nClassification Report:\")\n",
        "print(classification_report(y_true, y_pred_classes, target_names=label_encoder.classes_))\n",
        "\n",
        "# Confusion matrix\n",
        "plt.figure(figsize=(10, 8))\n",
        "cm = confusion_matrix(y_true, y_pred_classes)\n",
        "sns.heatmap(cm, annot=True, fmt='d', cmap='Blues',\n",
        "            xticklabels=label_encoder.classes_,\n",
        "            yticklabels=label_encoder.classes_)\n",
        "plt.title('Confusion Matrix')\n",
        "plt.xlabel('Predicted')\n",
        "plt.ylabel('True')\n",
        "plt.show()"
      ],
      "metadata": {
        "colab": {
          "base_uri": "https://localhost:8080/",
          "height": 1000
        },
        "id": "ccR3-E8IGxZj",
        "outputId": "e2116287-61a2-4f75-ddb9-d915cc166ce6"
      },
      "execution_count": null,
      "outputs": [
        {
          "output_type": "stream",
          "name": "stdout",
          "text": [
            "\n",
            "Test Accuracy: 0.8450\n",
            "\u001b[1m13/13\u001b[0m \u001b[32m━━━━━━━━━━━━━━━━━━━━\u001b[0m\u001b[37m\u001b[0m \u001b[1m0s\u001b[0m 6ms/step\n",
            "\n",
            "Classification Report:\n",
            "                        precision    recall  f1-score   support\n",
            "\n",
            "           Bridge-Pose       0.80      0.71      0.75        49\n",
            "            Child-Pose       0.98      0.87      0.92        47\n",
            "            Cobra-Pose       0.91      0.84      0.87        37\n",
            "     Downward-Dog-Pose       0.77      0.86      0.81        42\n",
            "           Pigeon-Pose       0.77      0.87      0.82        39\n",
            "Standing-Mountain-Pose       0.77      0.83      0.80        36\n",
            "             Tree-Pose       0.80      0.88      0.84        58\n",
            "         Triangle-Pose       0.94      0.90      0.92        52\n",
            "          Warrior-Pose       0.92      0.82      0.87        40\n",
            "\n",
            "              accuracy                           0.84       400\n",
            "             macro avg       0.85      0.84      0.84       400\n",
            "          weighted avg       0.85      0.84      0.85       400\n",
            "\n"
          ]
        },
        {
          "output_type": "display_data",
          "data": {
            "text/plain": [
              "<Figure size 1000x800 with 2 Axes>"
            ],
            "image/png": "[encoded data removed]"
          },
          "metadata": {}
        }
      ]
    },
    {
      "cell_type": "code",
      "source": [
        "def calculate_angle(a, b, c):\n",
        "    a = np.array(a)\n",
        "    b = np.array(b)\n",
        "    c = np.array(c)\n",
        "    radians = np.arctan2(c[1]-b[1], c[0]-b[0]) - np.arctan2(a[1]-b[1], a[0]-b[0])\n",
        "    angle = np.abs(radians*180.0/np.pi)\n",
        "    return angle if angle <= 180 else 360 - angle"
      ],
      "metadata": {
        "id": "YjUaDODs0Hcm"
      },
      "execution_count": null,
      "outputs": []
    },
    {
      "cell_type": "code",
      "source": [
        "def analyze_pose(image_path, model, label_encoder):\n",
        "    \"\"\"Analyze a new yoga pose and provide corrections\"\"\"\n",
        "    # Extract keypoints\n",
        "    keypoints = extract_keypoints(image_path)\n",
        "    if not keypoints:\n",
        "        return None, \"No pose detected in the image\"\n",
        "\n",
        "    # Reshape for model prediction\n",
        "    input_data = np.array(keypoints).reshape(1, -1, 1)\n",
        "\n",
        "    # Predict pose\n",
        "    prediction = model.predict(input_data)\n",
        "    predicted_class = np.argmax(prediction)\n",
        "    pose_name = label_encoder.inverse_transform([predicted_class])[0]\n",
        "    confidence = np.max(prediction)\n",
        "\n",
        "    # Calculate important angles\n",
        "    angles = {}\n",
        "    try:\n",
        "        # Get all joint coordinates\n",
        "        joints = {}\n",
        "        for i in range(0, len(keypoints), 2):\n",
        "            joint_idx = i // 2\n",
        "            joints[f\"joint_{joint_idx}\"] = [keypoints[i], keypoints[i+1]]\n",
        "\n",
        "        # Calculate common angles\n",
        "        # Left arm (shoulder-elbow-wrist)\n",
        "        angles['left_arm'] = calculate_angle(\n",
        "            joints['joint_11'], joints['joint_13'], joints['joint_15'])\n",
        "\n",
        "        # Right arm (shoulder-elbow-wrist)\n",
        "        angles['right_arm'] = calculate_angle(\n",
        "            joints['joint_12'], joints['joint_14'], joints['joint_16'])\n",
        "\n",
        "        # Left leg (hip-knee-ankle)\n",
        "        angles['left_leg'] = calculate_angle(\n",
        "            joints['joint_23'], joints['joint_25'], joints['joint_27'])\n",
        "\n",
        "        # Right leg (hip-knee-ankle)\n",
        "        angles['right_leg'] = calculate_angle(\n",
        "            joints['joint_24'], joints['joint_26'], joints['joint_28'])\n",
        "\n",
        "        # Back angle (shoulder-hip-knee)\n",
        "        angles['back'] = calculate_angle(\n",
        "            joints['joint_11'], joints['joint_23'], joints['joint_25'])\n",
        "\n",
        "        # Hip openness (left hip-right hip-knee)\n",
        "        angles['hip_openness'] = calculate_angle(\n",
        "            joints['joint_23'], joints['joint_24'], joints['joint_26'])\n",
        "\n",
        "    except Exception as e:\n",
        "        print(f\"Angle calculation error: {str(e)}\")\n",
        "\n",
        "    # Generate pose-specific feedback\n",
        "    feedback = []\n",
        "\n",
        "    if pose_name == \"Warrior-Pose\":\n",
        "        if angles.get('left_arm', 0) < 160:\n",
        "            feedback.append(\"Straighten your left arm more (aim for 160°)\")\n",
        "        if angles.get('right_arm', 0) < 160:\n",
        "            feedback.append(\"Straighten your right arm more (aim for 160°)\")\n",
        "        if angles.get('front_knee', 170) > 100:\n",
        "            feedback.append(\"Bend your front knee deeper (aim for 90°)\")\n",
        "\n",
        "    elif pose_name == \"Bridge-Pose\":\n",
        "        if angles.get('back', 180) < 150:  # Back arch angle\n",
        "            feedback.append(\"Lift your hips higher (aim for 150° back arch)\")\n",
        "        elif angles.get('back', 0) > 170:\n",
        "            feedback.append(\"Reduce over-arching - engage core muscles\")\n",
        "\n",
        "        if angles.get('left_leg', 0) < 90 or angles.get('right_leg', 0) < 90:  # Knee angles\n",
        "            feedback.append(\"Keep knees aligned over ankles (90° bend)\")\n",
        "\n",
        "        if angles.get('hip_openness', 0) > 30:  # Hip width\n",
        "            feedback.append(\"Bring knees closer together (hip-width apart)\")\n",
        "\n",
        "        if angles.get('left_arm', 180) < 170:  # Arm position\n",
        "            feedback.append(\"Press shoulders firmly into the mat\")\n",
        "\n",
        "    elif pose_name == \"Child-Pose\":\n",
        "        if angles.get('hip_openness', 0) > 60:\n",
        "            feedback.append(\"Sink your hips back toward your heels more\")\n",
        "        if angles.get('back', 0) < 170:\n",
        "            feedback.append(\"Relax your torso completely onto thighs\")\n",
        "\n",
        "    elif pose_name == \"Cobra-Pose\":\n",
        "        if angles.get('back', 0) < 150:\n",
        "            feedback.append(\"Lift your chest higher (aim for 150° back arch)\")\n",
        "        if angles.get('left_arm', 0) < 160:\n",
        "            feedback.append(\"Straighten your arms more\")\n",
        "        if angles.get('hip_openness', 0) < 170:\n",
        "            feedback.append(\"Keep your legs closer together\")\n",
        "\n",
        "    elif pose_name == \"Pigeon-Pose\":\n",
        "        if angles.get('front_knee', 180) < 90:\n",
        "            feedback.append(\"Bring your front foot closer to your body\")\n",
        "        if angles.get('back', 0) < 170:\n",
        "            feedback.append(\"Square your hips forward\")\n",
        "        if angles.get('left_arm', 0) < 160:\n",
        "            feedback.append(\"Extend your arms forward more\")\n",
        "\n",
        "    elif pose_name == \"Downward-Dog\":\n",
        "        if angles.get('left_arm', 0) < 160:\n",
        "            feedback.append(\"Straighten your arms completely (push chest back)\")\n",
        "        if angles.get('left_leg', 0) < 150:\n",
        "            feedback.append(\"Straighten your legs more (lift hips higher)\")\n",
        "        if angles.get('back', 0) < 150:\n",
        "            feedback.append(\"Lengthen your spine (avoid rounding back)\")\n",
        "\n",
        "    elif pose_name == \"Standing-Mountain\":\n",
        "        if angles.get('left_arm', 0) < 170:\n",
        "            feedback.append(\"Keep arms straight by your sides\")\n",
        "        if angles.get('left_leg', 0) < 170:\n",
        "            feedback.append(\"Engage your thigh muscles to straighten legs\")\n",
        "        if angles.get('hip_openness', 0) < 170:\n",
        "            feedback.append(\"Bring feet closer together (hip-width apart)\")\n",
        "\n",
        "    elif pose_name == \"Tree-Pose\":\n",
        "        if angles.get('standing_leg', 0) < 170:\n",
        "            feedback.append(\"Straighten your standing leg more\")\n",
        "        if angles.get('hip_openness', 0) > 45:\n",
        "            feedback.append(\"Bring your foot higher on inner thigh\")\n",
        "        if angles.get('left_arm', 0) < 160:\n",
        "            feedback.append(\"Bring palms together at chest or overhead\")\n",
        "\n",
        "    elif pose_name == \"Triangle-Pose\":\n",
        "        if angles.get('front_knee', 180) < 170:\n",
        "            feedback.append(\"Straighten your front leg completely\")\n",
        "        if angles.get('torso_angle', 0) < 80:\n",
        "            feedback.append(\"Lean sideways more (aim for 90° from legs)\")\n",
        "        if angles.get('left_arm', 0) < 160:\n",
        "            feedback.append(\"Extend both arms in one straight line\")\n",
        "\n",
        "    # Default feedback if no specific corrections\n",
        "    if not feedback:\n",
        "        feedback.append(\"Your pose looks good! Maintain this alignment.\")\n",
        "\n",
        "    return pose_name, confidence, angles, feedback"
      ],
      "metadata": {
        "id": "zTQ9jk3kHQ3u"
      },
      "execution_count": null,
      "outputs": []
    },
    {
      "cell_type": "code",
      "source": [
        "# TEST ON NEW IMAGE\n",
        "# Upload a test image\n",
        "from google.colab import files\n",
        "uploaded = files.upload()\n",
        "test_image_path = next(iter(uploaded))\n",
        "\n",
        "# Analyze the pose\n",
        "pose_name, confidence, angles, feedback = analyze_pose(test_image_path, model, label_encoder)\n",
        "\n",
        "print(\"\\nPose Analysis Results:\")\n",
        "print(f\"- Predicted Pose: {pose_name} (Confidence: {confidence:.2%})\")\n",
        "print(\"- Key Angles:\")\n",
        "for joint, angle in angles.items():\n",
        "    print(f\"  {joint.replace('_', ' ').title()}: {angle:.1f}°\")\n",
        "print(\"- Feedback:\")\n",
        "for item in feedback:\n",
        "    print(f\"  → {item}\")\n",
        "\n",
        "# Display the image with keypoints\n",
        "image = cv2.imread(test_image_path)\n",
        "image_rgb = cv2.cvtColor(image, cv2.COLOR_BGR2RGB)\n",
        "results = pose.process(image_rgb)\n",
        "if results.pose_landmarks:\n",
        "    mp_drawing.draw_landmarks(\n",
        "        image_rgb,\n",
        "        results.pose_landmarks,\n",
        "        mp_pose.POSE_CONNECTIONS\n",
        "    )\n",
        "plt.imshow(image_rgb)\n",
        "plt.axis('off')\n",
        "plt.show()"
      ],
      "metadata": {
        "colab": {
          "base_uri": "https://localhost:8080/",
          "height": 687
        },
        "id": "n-yEmJxGHiP3",
        "outputId": "890bb4f0-d0d9-4d73-c5a8-4be4baba8ed0"
      },
      "execution_count": null,
      "outputs": [
        {
          "output_type": "display_data",
          "data": {
            "text/plain": [
              "<IPython.core.display.HTML object>"
            ],
            "text/html": [
              "\n",
              "     <input type=\"file\" id=\"files-63e35687-8f86-4af0-b8dc-28bd4fc6429e\" name=\"files[]\" multiple disabled\n",
              "        style=\"border:none\" />\n",
              "     <output id=\"result-63e35687-8f86-4af0-b8dc-28bd4fc6429e\">\n",
              "      Upload widget is only available when the cell has been executed in the\n",
              "      current browser session. Please rerun this cell to enable.\n",
              "      </output>\n",
              "      <script>// Copyright 2017 Google LLC\n",
              "//\n",
              "// Licensed under the Apache License, Version 2.0 (the \"License\");\n",
              "// you may not use this file except in compliance with the License.\n",
              "// You may obtain a copy of the License at\n",
              "//\n",
              "//      http://www.apache.org/licenses/LICENSE-2.0\n",
              "//\n",
              "// Unless required by applicable law or agreed to in writing, software\n",
              "// distributed under the License is distributed on an \"AS IS\" BASIS,\n",
              "// WITHOUT WARRANTIES OR CONDITIONS OF ANY KIND, either express or implied.\n",
              "// See the License for the specific language governing permissions and\n",
              "// limitations under the License.\n",
              "\n",
              "/**\n",
              " * @fileoverview Helpers for google.colab Python module.\n",
              " */\n",
              "(function(scope) {\n",
              "function span(text, styleAttributes = {}) {\n",
              "  const element = document.createElement('span');\n",
              "  element.textContent = text;\n",
              "  for (const key of Object.keys(styleAttributes)) {\n",
              "    element.style[key] = styleAttributes[key];\n",
              "  }\n",
              "  return element;\n",
              "}\n",
              "\n",
              "// Max number of bytes which will be uploaded at a time.\n",
              "const MAX_PAYLOAD_SIZE = 100 * 1024;\n",
              "\n",
              "function _uploadFiles(inputId, outputId) {\n",
              "  const steps = uploadFilesStep(inputId, outputId);\n",
              "  const outputElement = document.getElementById(outputId);\n",
              "  // Cache steps on the outputElement to make it available for the next call\n",
              "  // to uploadFilesContinue from Python.\n",
              "  outputElement.steps = steps;\n",
              "\n",
              "  return _uploadFilesContinue(outputId);\n",
              "}\n",
              "\n",
              "// This is roughly an async generator (not supported in the browser yet),\n",
              "// where there are multiple asynchronous steps and the Python side is going\n",
              "// to poll for completion of each step.\n",
              "// This uses a Promise to block the python side on completion of each step,\n",
              "// then passes the result of the previous step as the input to the next step.\n",
              "function _uploadFilesContinue(outputId) {\n",
              "  const outputElement = document.getElementById(outputId);\n",
              "  const steps = outputElement.steps;\n",
              "\n",
              "  const next = steps.next(outputElement.lastPromiseValue);\n",
              "  return Promise.resolve(next.value.promise).then((value) => {\n",
              "    // Cache the last promise value to make it available to the next\n",
              "    // step of the generator.\n",
              "    outputElement.lastPromiseValue = value;\n",
              "    return next.value.response;\n",
              "  });\n",
              "}\n",
              "\n",
              "/**\n",
              " * Generator function which is called between each async step of the upload\n",
              " * process.\n",
              " * @param {string} inputId Element ID of the input file picker element.\n",
              " * @param {string} outputId Element ID of the output display.\n",
              " * @return {!Iterable<!Object>} Iterable of next steps.\n",
              " */\n",
              "function* uploadFilesStep(inputId, outputId) {\n",
              "  const inputElement = document.getElementById(inputId);\n",
              "  inputElement.disabled = false;\n",
              "\n",
              "  const outputElement = document.getElementById(outputId);\n",
              "  outputElement.innerHTML = '';\n",
              "\n",
              "  const pickedPromise = new Promise((resolve) => {\n",
              "    inputElement.addEventListener('change', (e) => {\n",
              "      resolve(e.target.files);\n",
              "    });\n",
              "  });\n",
              "\n",
              "  const cancel = document.createElement('button');\n",
              "  inputElement.parentElement.appendChild(cancel);\n",
              "  cancel.textContent = 'Cancel upload';\n",
              "  const cancelPromise = new Promise((resolve) => {\n",
              "    cancel.onclick = () => {\n",
              "      resolve(null);\n",
              "    };\n",
              "  });\n",
              "\n",
              "  // Wait for the user to pick the files.\n",
              "  const files = yield {\n",
              "    promise: Promise.race([pickedPromise, cancelPromise]),\n",
              "    response: {\n",
              "      action: 'starting',\n",
              "    }\n",
              "  };\n",
              "\n",
              "  cancel.remove();\n",
              "\n",
              "  // Disable the input element since further picks are not allowed.\n",
              "  inputElement.disabled = true;\n",
              "\n",
              "  if (!files) {\n",
              "    return {\n",
              "      response: {\n",
              "        action: 'complete',\n",
              "      }\n",
              "    };\n",
              "  }\n",
              "\n",
              "  for (const file of files) {\n",
              "    const li = document.createElement('li');\n",
              "    li.append(span(file.name, {fontWeight: 'bold'}));\n",
              "    li.append(span(\n",
              "        `(${file.type || 'n/a'}) - ${file.size} bytes, ` +\n",
              "        `last modified: ${\n",
              "            file.lastModifiedDate ? file.lastModifiedDate.toLocaleDateString() :\n",
              "                                    'n/a'} - `));\n",
              "    const percent = span('0% done');\n",
              "    li.appendChild(percent);\n",
              "\n",
              "    outputElement.appendChild(li);\n",
              "\n",
              "    const fileDataPromise = new Promise((resolve) => {\n",
              "      const reader = new FileReader();\n",
              "      reader.onload = (e) => {\n",
              "        resolve(e.target.result);\n",
              "      };\n",
              "      reader.readAsArrayBuffer(file);\n",
              "    });\n",
              "    // Wait for the data to be ready.\n",
              "    let fileData = yield {\n",
              "      promise: fileDataPromise,\n",
              "      response: {\n",
              "        action: 'continue',\n",
              "      }\n",
              "    };\n",
              "\n",
              "    // Use a chunked sending to avoid message size limits. See b/62115660.\n",
              "    let position = 0;\n",
              "    do {\n",
              "      const length = Math.min(fileData.byteLength - position, MAX_PAYLOAD_SIZE);\n",
              "      const chunk = new Uint8Array(fileData, position, length);\n",
              "      position += length;\n",
              "\n",
              "      const base64 = btoa(String.fromCharCode.apply(null, chunk));\n",
              "      yield {\n",
              "        response: {\n",
              "          action: 'append',\n",
              "          file: file.name,\n",
              "          data: base64,\n",
              "        },\n",
              "      };\n",
              "\n",
              "      let percentDone = fileData.byteLength === 0 ?\n",
              "          100 :\n",
              "          Math.round((position / fileData.byteLength) * 100);\n",
              "      percent.textContent = `${percentDone}% done`;\n",
              "\n",
              "    } while (position < fileData.byteLength);\n",
              "  }\n",
              "\n",
              "  // All done.\n",
              "  yield {\n",
              "    response: {\n",
              "      action: 'complete',\n",
              "    }\n",
              "  };\n",
              "}\n",
              "\n",
              "scope.google = scope.google || {};\n",
              "scope.google.colab = scope.google.colab || {};\n",
              "scope.google.colab._files = {\n",
              "  _uploadFiles,\n",
              "  _uploadFilesContinue,\n",
              "};\n",
              "})(self);\n",
              "</script> "
            ]
          },
          "metadata": {}
        },
        {
          "output_type": "stream",
          "name": "stdout",
          "text": [
            "Saving download (3).jfif to download (3) (1).jfif\n",
            "\u001b[1m1/1\u001b[0m \u001b[32m━━━━━━━━━━━━━━━━━━━━\u001b[0m\u001b[37m\u001b[0m \u001b[1m0s\u001b[0m 32ms/step\n",
            "\n",
            "Pose Analysis Results:\n",
            "- Predicted Pose: Warrior-Pose (Confidence: 75.10%)\n",
            "- Key Angles:\n",
            "  Left Arm: 174.8°\n",
            "  Right Arm: 176.1°\n",
            "  Left Leg: 176.9°\n",
            "  Right Leg: 102.0°\n",
            "  Back: 140.0°\n",
            "  Hip Openness: 174.6°\n",
            "- Feedback:\n",
            "  → Bend your front knee deeper (aim for 90°)\n"
          ]
        },
        {
          "output_type": "display_data",
          "data": {
            "text/plain": [
              "<Figure size 640x480 with 1 Axes>"
            ],
            "image/png": "[encoded data removed]"
          },
          "metadata": {}
        }
      ]
    },
    {
      "cell_type": "code",
      "source": [
        "! pip install streamlit -q"
      ],
      "metadata": {
        "colab": {
          "base_uri": "https://localhost:8080/"
        },
        "id": "TRcVgnxQ0uap",
        "outputId": "a1c4f359-7c75-45bd-8637-a4d8abace792"
      },
      "execution_count": null,
      "outputs": [
        {
          "output_type": "stream",
          "name": "stdout",
          "text": [
            "\u001b[2K     \u001b[90m━━━━━━━━━━━━━━━━━━━━━━━━━━━━━━━━━━━━━━━━\u001b[0m \u001b[32m44.3/44.3 kB\u001b[0m \u001b[31m1.7 MB/s\u001b[0m eta \u001b[36m0:00:00\u001b[0m\n",
            "\u001b[2K   \u001b[90m━━━━━━━━━━━━━━━━━━━━━━━━━━━━━━━━━━━━━━━━\u001b[0m \u001b[32m9.9/9.9 MB\u001b[0m \u001b[31m47.1 MB/s\u001b[0m eta \u001b[36m0:00:00\u001b[0m\n",
            "\u001b[2K   \u001b[90m━━━━━━━━━━━━━━━━━━━━━━━━━━━━━━━━━━━━━━━━\u001b[0m \u001b[32m6.9/6.9 MB\u001b[0m \u001b[31m62.9 MB/s\u001b[0m eta \u001b[36m0:00:00\u001b[0m\n",
            "\u001b[2K   \u001b[90m━━━━━━━━━━━━━━━━━━━━━━━━━━━━━━━━━━━━━━━━\u001b[0m \u001b[32m79.1/79.1 kB\u001b[0m \u001b[31m7.0 MB/s\u001b[0m eta \u001b[36m0:00:00\u001b[0m\n",
            "\u001b[?25h"
          ]
        }
      ]
    },
    {
      "cell_type": "code",
      "source": [
        "!npm install localtunnel"
      ],
      "metadata": {
        "colab": {
          "base_uri": "https://localhost:8080/"
        },
        "id": "MOyIo-tZ105a",
        "outputId": "6b4a8cc3-3edd-4a9a-8f0b-077c449359e3"
      },
      "execution_count": null,
      "outputs": [
        {
          "output_type": "stream",
          "name": "stdout",
          "text": [
            "\u001b[1G\u001b[0K⠙\u001b[1G\u001b[0K⠹\u001b[1G\u001b[0K⠸\u001b[1G\u001b[0K⠼\u001b[1G\u001b[0K⠴\u001b[1G\u001b[0K⠦\u001b[1G\u001b[0K⠧\u001b[1G\u001b[0K⠇\u001b[1G\u001b[0K⠏\u001b[1G\u001b[0K⠋\u001b[1G\u001b[0K⠙\u001b[1G\u001b[0K⠹\u001b[1G\u001b[0K⠸\u001b[1G\u001b[0K⠼\u001b[1G\u001b[0K⠴\u001b[1G\u001b[0K⠦\u001b[1G\u001b[0K⠧\u001b[1G\u001b[0K\n",
            "added 22 packages in 2s\n",
            "\u001b[1G\u001b[0K⠇\u001b[1G\u001b[0K\n",
            "\u001b[1G\u001b[0K⠇\u001b[1G\u001b[0K3 packages are looking for funding\n",
            "\u001b[1G\u001b[0K⠇\u001b[1G\u001b[0K  run `npm fund` for details\n",
            "\u001b[1G\u001b[0K⠇\u001b[1G\u001b[0K"
          ]
        }
      ]
    },
    {
      "cell_type": "code",
      "source": [
        "!wget -q -O - ipv4.icanhazip.com"
      ],
      "metadata": {
        "colab": {
          "base_uri": "https://localhost:8080/"
        },
        "id": "HbrDSzHt0-YY",
        "outputId": "ab6dd35c-94d5-4d9b-9f45-517678dae920"
      },
      "execution_count": null,
      "outputs": [
        {
          "output_type": "stream",
          "name": "stdout",
          "text": [
            "34.106.27.76\n"
          ]
        }
      ]
    },
    {
      "cell_type": "code",
      "source": [
        "! streamlit run yoga_pose_app.py & npx localtunnel --port 8501"
      ],
      "metadata": {
        "colab": {
          "base_uri": "https://localhost:8080/"
        },
        "id": "Ekm70nL168aP",
        "outputId": "ac9ad300-5a8f-4a33-af01-a5ecec7777b5"
      },
      "execution_count": null,
      "outputs": [
        {
          "output_type": "stream",
          "name": "stdout",
          "text": [
            "\n",
            "Collecting usage statistics. To deactivate, set browser.gatherUsageStats to false.\n",
            "\u001b[0m\n",
            "\u001b[1G\u001b[0K⠙\u001b[1G\u001b[0K\u001b[0m\n",
            "\u001b[34m\u001b[1m  You can now view your Streamlit app in your browser.\u001b[0m\n",
            "\u001b[0m\n",
            "\u001b[34m  Local URL: \u001b[0m\u001b[1mhttp://localhost:8501\u001b[0m\n",
            "\u001b[34m  Network URL: \u001b[0m\u001b[1mhttp://172.28.0.12:8501\u001b[0m\n",
            "\u001b[34m  External URL: \u001b[0m\u001b[1mhttp://34.106.27.76:8501\u001b[0m\n",
            "\u001b[0m\n",
            "your url is: https://hot-feet-show.loca.lt\n",
            "2025-04-30 18:34:19.860896: E external/local_xla/xla/stream_executor/cuda/cuda_fft.cc:477] Unable to register cuFFT factory: Attempting to register factory for plugin cuFFT when one has already been registered\n",
            "WARNING: All log messages before absl::InitializeLog() is called are written to STDERR\n",
            "E0000 00:00:1746038059.886888   18849 cuda_dnn.cc:8310] Unable to register cuDNN factory: Attempting to register factory for plugin cuDNN when one has already been registered\n",
            "E0000 00:00:1746038059.894779   18849 cuda_blas.cc:1418] Unable to register cuBLAS factory: Attempting to register factory for plugin cuBLAS when one has already been registered\n",
            "2025-04-30 18:34:23.657594: E external/local_xla/xla/stream_executor/cuda/cuda_driver.cc:152] failed call to cuInit: INTERNAL: CUDA error: Failed call to cuInit: UNKNOWN ERROR (303)\n",
            "WARNING:absl:Compiled the loaded model, but the compiled metrics have yet to be built. `model.compile_metrics` will be empty until you train or evaluate the model.\n",
            "INFO: Created TensorFlow Lite XNNPACK delegate for CPU.\n",
            "WARNING: All log messages before absl::InitializeLog() is called are written to STDERR\n",
            "W0000 00:00:1746038064.230340   18897 inference_feedback_manager.cc:114] Feedback manager requires a model with a single signature inference. Disabling support for feedback tensors.\n",
            "W0000 00:00:1746038064.544141   18897 inference_feedback_manager.cc:114] Feedback manager requires a model with a single signature inference. Disabling support for feedback tensors.\n",
            "WARNING:absl:Compiled the loaded model, but the compiled metrics have yet to be built. `model.compile_metrics` will be empty until you train or evaluate the model.\n",
            "Error processing [[[177 175 174]\n",
            "  [178 176 175]\n",
            "  [178 176 175]\n",
            "  ...\n",
            "  [174 174 174]\n",
            "  [174 174 174]\n",
            "  [174 174 174]]\n",
            "\n",
            " [[250 248 247]\n",
            "  [251 249 248]\n",
            "  [251 249 248]\n",
            "  ...\n",
            "  [245 245 245]\n",
            "  [245 245 245]\n",
            "  [245 245 245]]\n",
            "\n",
            " [[244 242 241]\n",
            "  [244 242 241]\n",
            "  [244 242 241]\n",
            "  ...\n",
            "  [238 238 238]\n",
            "  [238 238 238]\n",
            "  [238 238 238]]\n",
            "\n",
            " ...\n",
            "\n",
            " [[159 190 221]\n",
            "  [157 188 219]\n",
            "  [156 187 218]\n",
            "  ...\n",
            "  [154 192 224]\n",
            "  [154 191 225]\n",
            "  [155 192 226]]\n",
            "\n",
            " [[158 189 220]\n",
            "  [157 188 219]\n",
            "  [157 188 219]\n",
            "  ...\n",
            "  [143 181 213]\n",
            "  [144 182 214]\n",
            "  [144 182 214]]\n",
            "\n",
            " [[155 186 217]\n",
            "  [155 186 217]\n",
            "  [155 186 217]\n",
            "  ...\n",
            "  [151 189 221]\n",
            "  [151 189 221]\n",
            "  [150 188 220]]]: OpenCV(4.11.0) :-1: error: (-5:Bad argument) in function 'imread'\n",
            "> Overload resolution failed:\n",
            ">  - Expected 'filename' to be a str or path-like object\n",
            ">  - Expected 'filename' to be a str or path-like object\n",
            ">  - Expected 'filename' to be a str or path-like object\n",
            "\n",
            "W0000 00:00:1746038082.203800   18971 inference_feedback_manager.cc:114] Feedback manager requires a model with a single signature inference. Disabling support for feedback tensors.\n",
            "W0000 00:00:1746038082.397320   18972 inference_feedback_manager.cc:114] Feedback manager requires a model with a single signature inference. Disabling support for feedback tensors.\n",
            "2025-04-30 18:36:15.538 Script compilation error\n",
            "Traceback (most recent call last):\n",
            "  File \"/usr/local/lib/python3.11/dist-packages/streamlit/runtime/scriptrunner/script_runner.py\", line 557, in _run_script\n",
            "    code = self._script_cache.get_bytecode(script_path)\n",
            "           ^^^^^^^^^^^^^^^^^^^^^^^^^^^^^^^^^^^^^^^^^^^^\n",
            "  File \"/usr/local/lib/python3.11/dist-packages/streamlit/runtime/scriptrunner/script_cache.py\", line 72, in get_bytecode\n",
            "    filebody = magic.add_magic(filebody, script_path)\n",
            "               ^^^^^^^^^^^^^^^^^^^^^^^^^^^^^^^^^^^^^^\n",
            "  File \"/usr/local/lib/python3.11/dist-packages/streamlit/runtime/scriptrunner/magic.py\", line 46, in add_magic\n",
            "    tree = ast.parse(code, script_path, \"exec\")\n",
            "           ^^^^^^^^^^^^^^^^^^^^^^^^^^^^^^^^^^^^\n",
            "  File \"/usr/lib/python3.11/ast.py\", line 50, in parse\n",
            "    return compile(source, filename, mode, flags,\n",
            "           ^^^^^^^^^^^^^^^^^^^^^^^^^^^^^^^^^^^^^^\n",
            "  File \"/content/yoga_pose_app.py\", line 197\n",
            "    return return pose_name, confidence, angles, feedback, annotated_image\n",
            "           ^^^^^^\n",
            "SyntaxError: invalid syntax\n",
            "2025-04-30 18:36:15.542 Thread 'MainThread': missing ScriptRunContext! This warning can be ignored when running in bare mode.\n",
            "WARNING:absl:Compiled the loaded model, but the compiled metrics have yet to be built. `model.compile_metrics` will be empty until you train or evaluate the model.\n",
            "Error processing [[[177 175 174]\n",
            "  [178 176 175]\n",
            "  [178 176 175]\n",
            "  ...\n",
            "  [174 174 174]\n",
            "  [174 174 174]\n",
            "  [174 174 174]]\n",
            "\n",
            " [[250 248 247]\n",
            "  [251 249 248]\n",
            "  [251 249 248]\n",
            "  ...\n",
            "  [245 245 245]\n",
            "  [245 245 245]\n",
            "  [245 245 245]]\n",
            "\n",
            " [[244 242 241]\n",
            "  [244 242 241]\n",
            "  [244 242 241]\n",
            "  ...\n",
            "  [238 238 238]\n",
            "  [238 238 238]\n",
            "  [238 238 238]]\n",
            "\n",
            " ...\n",
            "\n",
            " [[159 190 221]\n",
            "  [157 188 219]\n",
            "  [156 187 218]\n",
            "  ...\n",
            "  [154 192 224]\n",
            "  [154 191 225]\n",
            "  [155 192 226]]\n",
            "\n",
            " [[158 189 220]\n",
            "  [157 188 219]\n",
            "  [157 188 219]\n",
            "  ...\n",
            "  [143 181 213]\n",
            "  [144 182 214]\n",
            "  [144 182 214]]\n",
            "\n",
            " [[155 186 217]\n",
            "  [155 186 217]\n",
            "  [155 186 217]\n",
            "  ...\n",
            "  [151 189 221]\n",
            "  [151 189 221]\n",
            "  [150 188 220]]]: OpenCV(4.11.0) :-1: error: (-5:Bad argument) in function 'imread'\n",
            "> Overload resolution failed:\n",
            ">  - Expected 'filename' to be a str or path-like object\n",
            ">  - Expected 'filename' to be a str or path-like object\n",
            ">  - Expected 'filename' to be a str or path-like object\n",
            "\n",
            "W0000 00:00:1746038199.409628   19440 inference_feedback_manager.cc:114] Feedback manager requires a model with a single signature inference. Disabling support for feedback tensors.\n",
            "W0000 00:00:1746038199.604170   19441 inference_feedback_manager.cc:114] Feedback manager requires a model with a single signature inference. Disabling support for feedback tensors.\n",
            "WARNING:absl:Compiled the loaded model, but the compiled metrics have yet to be built. `model.compile_metrics` will be empty until you train or evaluate the model.\n",
            "W0000 00:00:1746038214.944166   19509 inference_feedback_manager.cc:114] Feedback manager requires a model with a single signature inference. Disabling support for feedback tensors.\n",
            "W0000 00:00:1746038215.170348   19510 inference_feedback_manager.cc:114] Feedback manager requires a model with a single signature inference. Disabling support for feedback tensors.\n",
            "WARNING:absl:Compiled the loaded model, but the compiled metrics have yet to be built. `model.compile_metrics` will be empty until you train or evaluate the model.\n",
            "Error processing [[[177 175 174]\n",
            "  [178 176 175]\n",
            "  [178 176 175]\n",
            "  ...\n",
            "  [174 174 174]\n",
            "  [174 174 174]\n",
            "  [174 174 174]]\n",
            "\n",
            " [[250 248 247]\n",
            "  [251 249 248]\n",
            "  [251 249 248]\n",
            "  ...\n",
            "  [245 245 245]\n",
            "  [245 245 245]\n",
            "  [245 245 245]]\n",
            "\n",
            " [[244 242 241]\n",
            "  [244 242 241]\n",
            "  [244 242 241]\n",
            "  ...\n",
            "  [238 238 238]\n",
            "  [238 238 238]\n",
            "  [238 238 238]]\n",
            "\n",
            " ...\n",
            "\n",
            " [[159 190 221]\n",
            "  [157 188 219]\n",
            "  [156 187 218]\n",
            "  ...\n",
            "  [154 192 224]\n",
            "  [154 191 225]\n",
            "  [155 192 226]]\n",
            "\n",
            " [[158 189 220]\n",
            "  [157 188 219]\n",
            "  [157 188 219]\n",
            "  ...\n",
            "  [143 181 213]\n",
            "  [144 182 214]\n",
            "  [144 182 214]]\n",
            "\n",
            " [[155 186 217]\n",
            "  [155 186 217]\n",
            "  [155 186 217]\n",
            "  ...\n",
            "  [151 189 221]\n",
            "  [151 189 221]\n",
            "  [150 188 220]]]: OpenCV(4.11.0) :-1: error: (-5:Bad argument) in function 'imread'\n",
            "> Overload resolution failed:\n",
            ">  - Expected 'filename' to be a str or path-like object\n",
            ">  - Expected 'filename' to be a str or path-like object\n",
            ">  - Expected 'filename' to be a str or path-like object\n",
            "\n",
            "W0000 00:00:1746038261.806033   19700 inference_feedback_manager.cc:114] Feedback manager requires a model with a single signature inference. Disabling support for feedback tensors.\n",
            "W0000 00:00:1746038262.330825   19700 inference_feedback_manager.cc:114] Feedback manager requires a model with a single signature inference. Disabling support for feedback tensors.\n",
            "WARNING:absl:Compiled the loaded model, but the compiled metrics have yet to be built. `model.compile_metrics` will be empty until you train or evaluate the model.\n",
            "Error processing [[[177 175 174]\n",
            "  [178 176 175]\n",
            "  [178 176 175]\n",
            "  ...\n",
            "  [174 174 174]\n",
            "  [174 174 174]\n",
            "  [174 174 174]]\n",
            "\n",
            " [[250 248 247]\n",
            "  [251 249 248]\n",
            "  [251 249 248]\n",
            "  ...\n",
            "  [245 245 245]\n",
            "  [245 245 245]\n",
            "  [245 245 245]]\n",
            "\n",
            " [[244 242 241]\n",
            "  [244 242 241]\n",
            "  [244 242 241]\n",
            "  ...\n",
            "  [238 238 238]\n",
            "  [238 238 238]\n",
            "  [238 238 238]]\n",
            "\n",
            " ...\n",
            "\n",
            " [[159 190 221]\n",
            "  [157 188 219]\n",
            "  [156 187 218]\n",
            "  ...\n",
            "  [154 192 224]\n",
            "  [154 191 225]\n",
            "  [155 192 226]]\n",
            "\n",
            " [[158 189 220]\n",
            "  [157 188 219]\n",
            "  [157 188 219]\n",
            "  ...\n",
            "  [143 181 213]\n",
            "  [144 182 214]\n",
            "  [144 182 214]]\n",
            "\n",
            " [[155 186 217]\n",
            "  [155 186 217]\n",
            "  [155 186 217]\n",
            "  ...\n",
            "  [151 189 221]\n",
            "  [151 189 221]\n",
            "  [150 188 220]]]: OpenCV(4.11.0) :-1: error: (-5:Bad argument) in function 'imread'\n",
            "> Overload resolution failed:\n",
            ">  - Expected 'filename' to be a str or path-like object\n",
            ">  - Expected 'filename' to be a str or path-like object\n",
            ">  - Expected 'filename' to be a str or path-like object\n",
            "\n",
            "W0000 00:00:1746038440.745182   20416 inference_feedback_manager.cc:114] Feedback manager requires a model with a single signature inference. Disabling support for feedback tensors.\n",
            "W0000 00:00:1746038441.365800   20416 inference_feedback_manager.cc:114] Feedback manager requires a model with a single signature inference. Disabling support for feedback tensors.\n",
            "\u001b[34m  Stopping...\u001b[0m\n",
            "^C\n"
          ]
        }
      ]
    },
    {
      "cell_type": "code",
      "source": [],
      "metadata": {
        "id": "OUQE6NU17Dp6"
      },
      "execution_count": null,
      "outputs": []
    }
  ]
}